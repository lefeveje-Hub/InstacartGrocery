{
 "cells": [
  {
   "cell_type": "markdown",
   "id": "3a64487c-56de-4902-9ffb-a306aee7fc3c",
   "metadata": {},
   "source": [
    "# 01. Importing Libraries"
   ]
  },
  {
   "cell_type": "code",
   "execution_count": 1,
   "id": "77e32cec-633b-4187-b8a8-082557c4ffc7",
   "metadata": {},
   "outputs": [],
   "source": [
    "# Import libraries\n",
    "import pandas as pd\n",
    "import numpy as np\n",
    "import os"
   ]
  },
  {
   "cell_type": "markdown",
   "id": "3f5a77f7-bf5c-4930-b5b5-11542dffbef8",
   "metadata": {},
   "source": [
    "# 02. Importing Data"
   ]
  },
  {
   "cell_type": "code",
   "execution_count": 7,
   "id": "68f190db-e4f4-40db-b17c-97905f0e1e13",
   "metadata": {},
   "outputs": [],
   "source": [
    "# Import dataframe\n",
    "df = pd.read_csv(r'C:\\Users\\Joe\\Documents\\Data Analytics Course\\Instacart Basket Analysis\\02 Data\\Original Data\\orders.csv', index_col = False)"
   ]
  },
  {
   "cell_type": "code",
   "execution_count": 9,
   "id": "c1c7d3d6-4260-44da-8377-d4ef02569006",
   "metadata": {},
   "outputs": [],
   "source": [
    "path = r'C:\\Users\\Joe\\Documents\\Data Analytics Course\\Instacart Basket Analysis'"
   ]
  },
  {
   "cell_type": "code",
   "execution_count": 11,
   "id": "36e302ac-4419-4e9b-ae00-f0d143313bdc",
   "metadata": {},
   "outputs": [
    {
     "data": {
      "text/plain": [
       "'C:\\\\Users\\\\Joe\\\\Documents\\\\Data Analytics Course\\\\Instacart Basket Analysis'"
      ]
     },
     "execution_count": 11,
     "metadata": {},
     "output_type": "execute_result"
    }
   ],
   "source": [
    "path"
   ]
  },
  {
   "cell_type": "code",
   "execution_count": 13,
   "id": "ad27c5fb-80c3-457f-94b3-cf4c03a565b7",
   "metadata": {},
   "outputs": [],
   "source": [
    "# Use the OS function\n",
    "df = pd.read_csv(os.path.join(path, '02 Data', 'Original Data', 'orders.csv'), index_col = False)"
   ]
  },
  {
   "cell_type": "code",
   "execution_count": 15,
   "id": "1f8374b8-eed5-4f5d-a09a-f4a1d6902bb8",
   "metadata": {},
   "outputs": [
    {
     "data": {
      "text/html": [
       "<div>\n",
       "<style scoped>\n",
       "    .dataframe tbody tr th:only-of-type {\n",
       "        vertical-align: middle;\n",
       "    }\n",
       "\n",
       "    .dataframe tbody tr th {\n",
       "        vertical-align: top;\n",
       "    }\n",
       "\n",
       "    .dataframe thead th {\n",
       "        text-align: right;\n",
       "    }\n",
       "</style>\n",
       "<table border=\"1\" class=\"dataframe\">\n",
       "  <thead>\n",
       "    <tr style=\"text-align: right;\">\n",
       "      <th></th>\n",
       "      <th>order_id</th>\n",
       "      <th>user_id</th>\n",
       "      <th>eval_set</th>\n",
       "      <th>order_number</th>\n",
       "      <th>order_dow</th>\n",
       "      <th>order_hour_of_day</th>\n",
       "      <th>days_since_prior_order</th>\n",
       "    </tr>\n",
       "  </thead>\n",
       "  <tbody>\n",
       "    <tr>\n",
       "      <th>0</th>\n",
       "      <td>2539329</td>\n",
       "      <td>1</td>\n",
       "      <td>prior</td>\n",
       "      <td>1</td>\n",
       "      <td>2</td>\n",
       "      <td>8</td>\n",
       "      <td>NaN</td>\n",
       "    </tr>\n",
       "    <tr>\n",
       "      <th>1</th>\n",
       "      <td>2398795</td>\n",
       "      <td>1</td>\n",
       "      <td>prior</td>\n",
       "      <td>2</td>\n",
       "      <td>3</td>\n",
       "      <td>7</td>\n",
       "      <td>15.0</td>\n",
       "    </tr>\n",
       "    <tr>\n",
       "      <th>2</th>\n",
       "      <td>473747</td>\n",
       "      <td>1</td>\n",
       "      <td>prior</td>\n",
       "      <td>3</td>\n",
       "      <td>3</td>\n",
       "      <td>12</td>\n",
       "      <td>21.0</td>\n",
       "    </tr>\n",
       "    <tr>\n",
       "      <th>3</th>\n",
       "      <td>2254736</td>\n",
       "      <td>1</td>\n",
       "      <td>prior</td>\n",
       "      <td>4</td>\n",
       "      <td>4</td>\n",
       "      <td>7</td>\n",
       "      <td>29.0</td>\n",
       "    </tr>\n",
       "    <tr>\n",
       "      <th>4</th>\n",
       "      <td>431534</td>\n",
       "      <td>1</td>\n",
       "      <td>prior</td>\n",
       "      <td>5</td>\n",
       "      <td>4</td>\n",
       "      <td>15</td>\n",
       "      <td>28.0</td>\n",
       "    </tr>\n",
       "  </tbody>\n",
       "</table>\n",
       "</div>"
      ],
      "text/plain": [
       "   order_id  user_id eval_set  order_number  order_dow  order_hour_of_day  \\\n",
       "0   2539329        1    prior             1          2                  8   \n",
       "1   2398795        1    prior             2          3                  7   \n",
       "2    473747        1    prior             3          3                 12   \n",
       "3   2254736        1    prior             4          4                  7   \n",
       "4    431534        1    prior             5          4                 15   \n",
       "\n",
       "   days_since_prior_order  \n",
       "0                     NaN  \n",
       "1                    15.0  \n",
       "2                    21.0  \n",
       "3                    29.0  \n",
       "4                    28.0  "
      ]
     },
     "execution_count": 15,
     "metadata": {},
     "output_type": "execute_result"
    }
   ],
   "source": [
    "# Lookup Dataframe\n",
    "df.head()"
   ]
  },
  {
   "cell_type": "code",
   "execution_count": 17,
   "id": "7e3371ea-62f4-4069-a218-6daa3bd26231",
   "metadata": {},
   "outputs": [
    {
     "data": {
      "text/html": [
       "<div>\n",
       "<style scoped>\n",
       "    .dataframe tbody tr th:only-of-type {\n",
       "        vertical-align: middle;\n",
       "    }\n",
       "\n",
       "    .dataframe tbody tr th {\n",
       "        vertical-align: top;\n",
       "    }\n",
       "\n",
       "    .dataframe thead th {\n",
       "        text-align: right;\n",
       "    }\n",
       "</style>\n",
       "<table border=\"1\" class=\"dataframe\">\n",
       "  <thead>\n",
       "    <tr style=\"text-align: right;\">\n",
       "      <th></th>\n",
       "      <th>order_id</th>\n",
       "      <th>user_id</th>\n",
       "      <th>eval_set</th>\n",
       "      <th>order_number</th>\n",
       "      <th>order_dow</th>\n",
       "      <th>order_hour_of_day</th>\n",
       "      <th>days_since_prior_order</th>\n",
       "    </tr>\n",
       "  </thead>\n",
       "  <tbody>\n",
       "    <tr>\n",
       "      <th>3421078</th>\n",
       "      <td>2266710</td>\n",
       "      <td>206209</td>\n",
       "      <td>prior</td>\n",
       "      <td>10</td>\n",
       "      <td>5</td>\n",
       "      <td>18</td>\n",
       "      <td>29.0</td>\n",
       "    </tr>\n",
       "    <tr>\n",
       "      <th>3421079</th>\n",
       "      <td>1854736</td>\n",
       "      <td>206209</td>\n",
       "      <td>prior</td>\n",
       "      <td>11</td>\n",
       "      <td>4</td>\n",
       "      <td>10</td>\n",
       "      <td>30.0</td>\n",
       "    </tr>\n",
       "    <tr>\n",
       "      <th>3421080</th>\n",
       "      <td>626363</td>\n",
       "      <td>206209</td>\n",
       "      <td>prior</td>\n",
       "      <td>12</td>\n",
       "      <td>1</td>\n",
       "      <td>12</td>\n",
       "      <td>18.0</td>\n",
       "    </tr>\n",
       "    <tr>\n",
       "      <th>3421081</th>\n",
       "      <td>2977660</td>\n",
       "      <td>206209</td>\n",
       "      <td>prior</td>\n",
       "      <td>13</td>\n",
       "      <td>1</td>\n",
       "      <td>12</td>\n",
       "      <td>7.0</td>\n",
       "    </tr>\n",
       "    <tr>\n",
       "      <th>3421082</th>\n",
       "      <td>272231</td>\n",
       "      <td>206209</td>\n",
       "      <td>train</td>\n",
       "      <td>14</td>\n",
       "      <td>6</td>\n",
       "      <td>14</td>\n",
       "      <td>30.0</td>\n",
       "    </tr>\n",
       "  </tbody>\n",
       "</table>\n",
       "</div>"
      ],
      "text/plain": [
       "         order_id  user_id eval_set  order_number  order_dow  \\\n",
       "3421078   2266710   206209    prior            10          5   \n",
       "3421079   1854736   206209    prior            11          4   \n",
       "3421080    626363   206209    prior            12          1   \n",
       "3421081   2977660   206209    prior            13          1   \n",
       "3421082    272231   206209    train            14          6   \n",
       "\n",
       "         order_hour_of_day  days_since_prior_order  \n",
       "3421078                 18                    29.0  \n",
       "3421079                 10                    30.0  \n",
       "3421080                 12                    18.0  \n",
       "3421081                 12                     7.0  \n",
       "3421082                 14                    30.0  "
      ]
     },
     "execution_count": 17,
     "metadata": {},
     "output_type": "execute_result"
    }
   ],
   "source": [
    "df.tail()"
   ]
  },
  {
   "cell_type": "code",
   "execution_count": 19,
   "id": "36b118de-f3bc-4a63-9081-3e910efe4f77",
   "metadata": {},
   "outputs": [
    {
     "data": {
      "text/plain": [
       "(3421083, 7)"
      ]
     },
     "execution_count": 19,
     "metadata": {},
     "output_type": "execute_result"
    }
   ],
   "source": [
    "# See the shape\n",
    "df.shape"
   ]
  },
  {
   "cell_type": "code",
   "execution_count": 23,
   "id": "29d1ebbd-0d49-412b-8277-021eda3974e0",
   "metadata": {},
   "outputs": [
    {
     "name": "stdout",
     "output_type": "stream",
     "text": [
      "<class 'pandas.core.frame.DataFrame'>\n",
      "RangeIndex: 3421083 entries, 0 to 3421082\n",
      "Data columns (total 7 columns):\n",
      " #   Column                  Dtype  \n",
      "---  ------                  -----  \n",
      " 0   order_id                int64  \n",
      " 1   user_id                 int64  \n",
      " 2   eval_set                object \n",
      " 3   order_number            int64  \n",
      " 4   order_dow               int64  \n",
      " 5   order_hour_of_day       int64  \n",
      " 6   days_since_prior_order  float64\n",
      "dtypes: float64(1), int64(5), object(1)\n",
      "memory usage: 182.7+ MB\n"
     ]
    }
   ],
   "source": [
    "# Info on the dataframe\n",
    "df.info()"
   ]
  },
  {
   "cell_type": "code",
   "execution_count": 29,
   "id": "e2510db1-9ad0-49d4-a816-d92e865f20c0",
   "metadata": {},
   "outputs": [
    {
     "data": {
      "text/plain": [
       "Index(['order_id', 'user_id', 'eval_set', 'order_number', 'order_dow',\n",
       "       'order_hour_of_day', 'days_since_prior_order'],\n",
       "      dtype='object')"
      ]
     },
     "execution_count": 29,
     "metadata": {},
     "output_type": "execute_result"
    }
   ],
   "source": [
    "# Checking the columns\n",
    "df.columns"
   ]
  },
  {
   "cell_type": "code",
   "execution_count": 33,
   "id": "9b99dbc4-0a90-40b1-801a-40247005c046",
   "metadata": {},
   "outputs": [
    {
     "data": {
      "text/html": [
       "<div>\n",
       "<style scoped>\n",
       "    .dataframe tbody tr th:only-of-type {\n",
       "        vertical-align: middle;\n",
       "    }\n",
       "\n",
       "    .dataframe tbody tr th {\n",
       "        vertical-align: top;\n",
       "    }\n",
       "\n",
       "    .dataframe thead th {\n",
       "        text-align: right;\n",
       "    }\n",
       "</style>\n",
       "<table border=\"1\" class=\"dataframe\">\n",
       "  <thead>\n",
       "    <tr style=\"text-align: right;\">\n",
       "      <th></th>\n",
       "      <th>order_id</th>\n",
       "      <th>user_id</th>\n",
       "      <th>order_number</th>\n",
       "      <th>order_dow</th>\n",
       "      <th>order_hour_of_day</th>\n",
       "      <th>days_since_prior_order</th>\n",
       "    </tr>\n",
       "  </thead>\n",
       "  <tbody>\n",
       "    <tr>\n",
       "      <th>count</th>\n",
       "      <td>3.421083e+06</td>\n",
       "      <td>3.421083e+06</td>\n",
       "      <td>3.421083e+06</td>\n",
       "      <td>3.421083e+06</td>\n",
       "      <td>3.421083e+06</td>\n",
       "      <td>3.214874e+06</td>\n",
       "    </tr>\n",
       "    <tr>\n",
       "      <th>mean</th>\n",
       "      <td>1.710542e+06</td>\n",
       "      <td>1.029782e+05</td>\n",
       "      <td>1.715486e+01</td>\n",
       "      <td>2.776219e+00</td>\n",
       "      <td>1.345202e+01</td>\n",
       "      <td>1.111484e+01</td>\n",
       "    </tr>\n",
       "    <tr>\n",
       "      <th>std</th>\n",
       "      <td>9.875817e+05</td>\n",
       "      <td>5.953372e+04</td>\n",
       "      <td>1.773316e+01</td>\n",
       "      <td>2.046829e+00</td>\n",
       "      <td>4.226088e+00</td>\n",
       "      <td>9.206737e+00</td>\n",
       "    </tr>\n",
       "    <tr>\n",
       "      <th>min</th>\n",
       "      <td>1.000000e+00</td>\n",
       "      <td>1.000000e+00</td>\n",
       "      <td>1.000000e+00</td>\n",
       "      <td>0.000000e+00</td>\n",
       "      <td>0.000000e+00</td>\n",
       "      <td>0.000000e+00</td>\n",
       "    </tr>\n",
       "    <tr>\n",
       "      <th>25%</th>\n",
       "      <td>8.552715e+05</td>\n",
       "      <td>5.139400e+04</td>\n",
       "      <td>5.000000e+00</td>\n",
       "      <td>1.000000e+00</td>\n",
       "      <td>1.000000e+01</td>\n",
       "      <td>4.000000e+00</td>\n",
       "    </tr>\n",
       "    <tr>\n",
       "      <th>50%</th>\n",
       "      <td>1.710542e+06</td>\n",
       "      <td>1.026890e+05</td>\n",
       "      <td>1.100000e+01</td>\n",
       "      <td>3.000000e+00</td>\n",
       "      <td>1.300000e+01</td>\n",
       "      <td>7.000000e+00</td>\n",
       "    </tr>\n",
       "    <tr>\n",
       "      <th>75%</th>\n",
       "      <td>2.565812e+06</td>\n",
       "      <td>1.543850e+05</td>\n",
       "      <td>2.300000e+01</td>\n",
       "      <td>5.000000e+00</td>\n",
       "      <td>1.600000e+01</td>\n",
       "      <td>1.500000e+01</td>\n",
       "    </tr>\n",
       "    <tr>\n",
       "      <th>max</th>\n",
       "      <td>3.421083e+06</td>\n",
       "      <td>2.062090e+05</td>\n",
       "      <td>1.000000e+02</td>\n",
       "      <td>6.000000e+00</td>\n",
       "      <td>2.300000e+01</td>\n",
       "      <td>3.000000e+01</td>\n",
       "    </tr>\n",
       "  </tbody>\n",
       "</table>\n",
       "</div>"
      ],
      "text/plain": [
       "           order_id       user_id  order_number     order_dow  \\\n",
       "count  3.421083e+06  3.421083e+06  3.421083e+06  3.421083e+06   \n",
       "mean   1.710542e+06  1.029782e+05  1.715486e+01  2.776219e+00   \n",
       "std    9.875817e+05  5.953372e+04  1.773316e+01  2.046829e+00   \n",
       "min    1.000000e+00  1.000000e+00  1.000000e+00  0.000000e+00   \n",
       "25%    8.552715e+05  5.139400e+04  5.000000e+00  1.000000e+00   \n",
       "50%    1.710542e+06  1.026890e+05  1.100000e+01  3.000000e+00   \n",
       "75%    2.565812e+06  1.543850e+05  2.300000e+01  5.000000e+00   \n",
       "max    3.421083e+06  2.062090e+05  1.000000e+02  6.000000e+00   \n",
       "\n",
       "       order_hour_of_day  days_since_prior_order  \n",
       "count       3.421083e+06            3.214874e+06  \n",
       "mean        1.345202e+01            1.111484e+01  \n",
       "std         4.226088e+00            9.206737e+00  \n",
       "min         0.000000e+00            0.000000e+00  \n",
       "25%         1.000000e+01            4.000000e+00  \n",
       "50%         1.300000e+01            7.000000e+00  \n",
       "75%         1.600000e+01            1.500000e+01  \n",
       "max         2.300000e+01            3.000000e+01  "
      ]
     },
     "execution_count": 33,
     "metadata": {},
     "output_type": "execute_result"
    }
   ],
   "source": [
    "# Describe function\n",
    "df.describe()"
   ]
  },
  {
   "cell_type": "code",
   "execution_count": 35,
   "id": "adf1b614-5c6d-4743-8489-605bc936dcf3",
   "metadata": {},
   "outputs": [],
   "source": [
    "# Using Lists\n",
    "df = pd.read_csv(os.path.join(path, '02 Data', 'Original Data', 'orders.csv'), nrows=1000)"
   ]
  },
  {
   "cell_type": "code",
   "execution_count": 37,
   "id": "5b00d44c-010c-45fd-8b97-b492fbbd8a9c",
   "metadata": {},
   "outputs": [],
   "source": [
    "# Creating a list\n",
    "vars_list = ['order_id', 'user_id', 'order_number', 'order_dow', 'order_hour_of_day', 'days_since_prior_order']"
   ]
  },
  {
   "cell_type": "code",
   "execution_count": 39,
   "id": "2eb34e89-68f9-4b3d-959f-444f785f7dc5",
   "metadata": {},
   "outputs": [],
   "source": [
    "# Import with only columns from the list\n",
    "df = pd.read_csv(os.path.join(path, '02 Data', 'Original Data', 'orders.csv'), usecols = vars_list)"
   ]
  },
  {
   "cell_type": "code",
   "execution_count": 41,
   "id": "be5a8390-4e76-40ff-b757-cfeea5a86f58",
   "metadata": {},
   "outputs": [
    {
     "data": {
      "text/html": [
       "<div>\n",
       "<style scoped>\n",
       "    .dataframe tbody tr th:only-of-type {\n",
       "        vertical-align: middle;\n",
       "    }\n",
       "\n",
       "    .dataframe tbody tr th {\n",
       "        vertical-align: top;\n",
       "    }\n",
       "\n",
       "    .dataframe thead th {\n",
       "        text-align: right;\n",
       "    }\n",
       "</style>\n",
       "<table border=\"1\" class=\"dataframe\">\n",
       "  <thead>\n",
       "    <tr style=\"text-align: right;\">\n",
       "      <th></th>\n",
       "      <th>order_id</th>\n",
       "      <th>user_id</th>\n",
       "      <th>order_number</th>\n",
       "      <th>order_dow</th>\n",
       "      <th>order_hour_of_day</th>\n",
       "      <th>days_since_prior_order</th>\n",
       "    </tr>\n",
       "  </thead>\n",
       "  <tbody>\n",
       "    <tr>\n",
       "      <th>0</th>\n",
       "      <td>2539329</td>\n",
       "      <td>1</td>\n",
       "      <td>1</td>\n",
       "      <td>2</td>\n",
       "      <td>8</td>\n",
       "      <td>NaN</td>\n",
       "    </tr>\n",
       "    <tr>\n",
       "      <th>1</th>\n",
       "      <td>2398795</td>\n",
       "      <td>1</td>\n",
       "      <td>2</td>\n",
       "      <td>3</td>\n",
       "      <td>7</td>\n",
       "      <td>15.0</td>\n",
       "    </tr>\n",
       "    <tr>\n",
       "      <th>2</th>\n",
       "      <td>473747</td>\n",
       "      <td>1</td>\n",
       "      <td>3</td>\n",
       "      <td>3</td>\n",
       "      <td>12</td>\n",
       "      <td>21.0</td>\n",
       "    </tr>\n",
       "    <tr>\n",
       "      <th>3</th>\n",
       "      <td>2254736</td>\n",
       "      <td>1</td>\n",
       "      <td>4</td>\n",
       "      <td>4</td>\n",
       "      <td>7</td>\n",
       "      <td>29.0</td>\n",
       "    </tr>\n",
       "    <tr>\n",
       "      <th>4</th>\n",
       "      <td>431534</td>\n",
       "      <td>1</td>\n",
       "      <td>5</td>\n",
       "      <td>4</td>\n",
       "      <td>15</td>\n",
       "      <td>28.0</td>\n",
       "    </tr>\n",
       "  </tbody>\n",
       "</table>\n",
       "</div>"
      ],
      "text/plain": [
       "   order_id  user_id  order_number  order_dow  order_hour_of_day  \\\n",
       "0   2539329        1             1          2                  8   \n",
       "1   2398795        1             2          3                  7   \n",
       "2    473747        1             3          3                 12   \n",
       "3   2254736        1             4          4                  7   \n",
       "4    431534        1             5          4                 15   \n",
       "\n",
       "   days_since_prior_order  \n",
       "0                     NaN  \n",
       "1                    15.0  \n",
       "2                    21.0  \n",
       "3                    29.0  \n",
       "4                    28.0  "
      ]
     },
     "execution_count": 41,
     "metadata": {},
     "output_type": "execute_result"
    }
   ],
   "source": [
    "df.head()"
   ]
  },
  {
   "cell_type": "markdown",
   "id": "fb3fc05d-893b-487a-bb6a-20e073744f08",
   "metadata": {},
   "source": [
    "# Import Products CSV"
   ]
  },
  {
   "cell_type": "code",
   "execution_count": 47,
   "id": "0dba0d21-fc43-4062-94d1-0d50d2c7b71f",
   "metadata": {},
   "outputs": [],
   "source": [
    "df_prods = pd.read_csv(os.path.join(path,'02 Data', 'Original Data', 'products.csv'), index_col = False)"
   ]
  },
  {
   "cell_type": "code",
   "execution_count": 49,
   "id": "443436ad-bb2c-4e65-bc40-7b76e12a1095",
   "metadata": {},
   "outputs": [
    {
     "data": {
      "text/plain": [
       "(    product_id                                       product_name  aisle_id  \\\n",
       " 0            1                         Chocolate Sandwich Cookies        61   \n",
       " 1            2                                   All-Seasons Salt       104   \n",
       " 2            3               Robust Golden Unsweetened Oolong Tea        94   \n",
       " 3            4  Smart Ones Classic Favorites Mini Rigatoni Wit...        38   \n",
       " 4            5                          Green Chile Anytime Sauce         5   \n",
       " 5            6                                       Dry Nose Oil        11   \n",
       " 6            7                     Pure Coconut Water With Orange        98   \n",
       " 7            8                  Cut Russet Potatoes Steam N' Mash       116   \n",
       " 8            9                  Light Strawberry Blueberry Yogurt       120   \n",
       " 9           10     Sparkling Orange Juice & Prickly Pear Beverage       115   \n",
       " 10          11                                  Peach Mango Juice        31   \n",
       " 11          12                         Chocolate Fudge Layer Cake       119   \n",
       " 12          13                                  Saline Nasal Mist        11   \n",
       " 13          14                     Fresh Scent Dishwasher Cleaner        74   \n",
       " 14          15                           Overnight Diapers Size 6        56   \n",
       " 15          16                      Mint Chocolate Flavored Syrup       103   \n",
       " 16          17                                  Rendered Duck Fat        35   \n",
       " 17          18                Pizza for One Suprema  Frozen Pizza        79   \n",
       " 18          19   Gluten Free Quinoa Three Cheese & Mushroom Blend        63   \n",
       " 19          20     Pomegranate Cranberry & Aloe Vera Enrich Drink        98   \n",
       " \n",
       "     department_id  prices  \n",
       " 0              19     5.8  \n",
       " 1              13     9.3  \n",
       " 2               7     4.5  \n",
       " 3               1    10.5  \n",
       " 4              13     4.3  \n",
       " 5              11     2.6  \n",
       " 6               7     4.4  \n",
       " 7               1     1.1  \n",
       " 8              16     7.0  \n",
       " 9               7     8.4  \n",
       " 10              7     2.8  \n",
       " 11              1     9.4  \n",
       " 12             11     1.1  \n",
       " 13             17     6.5  \n",
       " 14             18    11.2  \n",
       " 15             19     5.2  \n",
       " 16             12    17.1  \n",
       " 17              1    10.6  \n",
       " 18              9    12.0  \n",
       " 19              7     6.0  ,\n",
       "        product_id                                       product_name  \\\n",
       " 49658       49654                   Teriyaki Sauce, Sesame, Original   \n",
       " 49659       49655                                        Apple Cider   \n",
       " 49660       49656                         Masada Kosher Pocket Bread   \n",
       " 49661       49657                                  Cabernet Tomatoes   \n",
       " 49662       49658                         Brie with Herbs Foil Wedge   \n",
       " 49663       49659                            Organic Creamed Coconut   \n",
       " 49664       49660                        Professionals Sleek Shampoo   \n",
       " 49665       49661                                              Porto   \n",
       " 49666       49662                       Bacon Cheddar Pretzel Pieces   \n",
       " 49667       49663  Ultra Protein Power Crunch Peanut Butter N' Ho...   \n",
       " 49668       49664                     Lemon Cayenne Drinking Vinegar   \n",
       " 49669       49665      Super Dark Coconut Ash & Banana Chocolate Bar   \n",
       " 49670       49666                      Ginger Snaps Snacking Cookies   \n",
       " 49671       49667           Enchilada with Spanish Rice & Beans Meal   \n",
       " 49672       49668                     Apple Cinnamon Scented Candles   \n",
       " 49673       49669                                   K Cup Dark Blend   \n",
       " 49674       49670                                Beef Summer Sausage   \n",
       " 49675       49671                               Milk Chocolate Drops   \n",
       " 49676       49672                             Cafe Mocha K-Cup Packs   \n",
       " 49677       49673              Stone Baked Multi Grain Artisan Rolls   \n",
       " 49678       49674            Frozen Greek Yogurt Bars Chocolate Chip   \n",
       " 49679       49675                Cinnamon Dolce Keurig Brewed K Cups   \n",
       " 49680       49676                             Ultra Red Energy Drink   \n",
       " 49681       49677                    Thick & Chunky Sloppy Joe Sauce   \n",
       " 49682       49678                    Large Chicken & Cheese Taquitos   \n",
       " 49683       49679                            Famous Chocolate Wafers   \n",
       " 49684       49680                 All Natural Creamy Caesar Dressing   \n",
       " 49685       49681            Spaghetti with Meatballs and Sauce Meal   \n",
       " 49686       49682                                 California Limeade   \n",
       " 49687       49683                                     Cucumber Kirby   \n",
       " 49688       49684          Vodka, Triple Distilled, Twist of Vanilla   \n",
       " 49689       49685                 En Croute Roast Hazelnut Cranberry   \n",
       " 49690       49686                                   Artisan Baguette   \n",
       " 49691       49687         Smartblend Healthy Metabolism Dry Cat Food   \n",
       " 49692       49688                             Fresh Foaming Cleanser   \n",
       " \n",
       "        aisle_id  department_id  prices  \n",
       " 49658         5             13     4.0  \n",
       " 49659        98              7    10.7  \n",
       " 49660       128              3     7.1  \n",
       " 49661        83              4     8.3  \n",
       " 49662         2             16     3.9  \n",
       " 49663        17             13     3.1  \n",
       " 49664        22             11     6.7  \n",
       " 49665       134              5     8.2  \n",
       " 49666       107             19     3.6  \n",
       " 49667        57             14    10.2  \n",
       " 49668       100             21    13.7  \n",
       " 49669        45             19     6.9  \n",
       " 49670        61             19     5.2  \n",
       " 49671        38              1     6.6  \n",
       " 49672       101             17     5.6  \n",
       " 49673       100             21     4.7  \n",
       " 49674       106             12    19.2  \n",
       " 49675        45             19     3.0  \n",
       " 49676        26              7     6.5  \n",
       " 49677       129              1     5.6  \n",
       " 49678        37              1    11.1  \n",
       " 49679        26              7    14.0  \n",
       " 49680        64              7    14.5  \n",
       " 49681        59             15     8.9  \n",
       " 49682       129              1     3.4  \n",
       " 49683        61             19     6.0  \n",
       " 49684        89             13     4.9  \n",
       " 49685        38              1     6.9  \n",
       " 49686        98              7     4.3  \n",
       " 49687        83              4    13.2  \n",
       " 49688       124              5     5.3  \n",
       " 49689        42              1     3.1  \n",
       " 49690       112              3     7.8  \n",
       " 49691        41              8     4.7  \n",
       " 49692        73             11    13.5  )"
      ]
     },
     "execution_count": 49,
     "metadata": {},
     "output_type": "execute_result"
    }
   ],
   "source": [
    "# First 20 rows and last 35 rows\n",
    "df_prods.head(20), df_prods.tail(35)"
   ]
  },
  {
   "cell_type": "code",
   "execution_count": 51,
   "id": "eefb10c6-9568-4b27-81cd-2ce9f1b5efb3",
   "metadata": {},
   "outputs": [
    {
     "data": {
      "text/plain": [
       "Index(['product_id', 'product_name', 'aisle_id', 'department_id', 'prices'], dtype='object')"
      ]
     },
     "execution_count": 51,
     "metadata": {},
     "output_type": "execute_result"
    }
   ],
   "source": [
    "# Names of the cloumns\n",
    "df_prods.columns"
   ]
  },
  {
   "cell_type": "code",
   "execution_count": 53,
   "id": "52b6d3fe-ae56-4f71-8fc6-ad44fd9bd753",
   "metadata": {},
   "outputs": [
    {
     "data": {
      "text/plain": [
       "(49693, 5)"
      ]
     },
     "execution_count": 53,
     "metadata": {},
     "output_type": "execute_result"
    }
   ],
   "source": [
    "# Number of rows and columns\n",
    "df_prods.shape"
   ]
  },
  {
   "cell_type": "markdown",
   "id": "6415e647-1c68-4c0f-b2fc-abd8ef78dee2",
   "metadata": {},
   "source": [
    "# Final Questions"
   ]
  },
  {
   "cell_type": "code",
   "execution_count": 55,
   "id": "e389ddaa-7f3e-468b-b123-9839ee023192",
   "metadata": {},
   "outputs": [
    {
     "data": {
      "text/plain": [
       "134"
      ]
     },
     "execution_count": 55,
     "metadata": {},
     "output_type": "execute_result"
    }
   ],
   "source": [
    "# Find the maximum value of the 'aisle_id' column\n",
    "df_prods['aisle_id'].max()"
   ]
  },
  {
   "cell_type": "markdown",
   "id": "aebe3157-e0ec-45b0-9aeb-a74a733ada22",
   "metadata": {},
   "source": [
    "The maximum value of the aisle column is 134."
   ]
  },
  {
   "cell_type": "code",
   "execution_count": 59,
   "id": "c0379ed0-de63-4c6b-bd60-097d91d5cbbf",
   "metadata": {},
   "outputs": [
    {
     "name": "stdout",
     "output_type": "stream",
     "text": [
      "<class 'pandas.core.series.Series'>\n",
      "RangeIndex: 49693 entries, 0 to 49692\n",
      "Series name: department_id\n",
      "Non-Null Count  Dtype\n",
      "--------------  -----\n",
      "49693 non-null  int64\n",
      "dtypes: int64(1)\n",
      "memory usage: 388.4 KB\n"
     ]
    }
   ],
   "source": [
    "# What's the data type of the 'department_id' column?\n",
    "df_prods['department_id'].info()"
   ]
  },
  {
   "cell_type": "markdown",
   "id": "2f0db452-7bbb-4b5e-a1d9-688e13b7aff5",
   "metadata": {},
   "source": [
    "The data type for the department_id column is int64."
   ]
  }
 ],
 "metadata": {
  "kernelspec": {
   "display_name": "Python 3 (ipykernel)",
   "language": "python",
   "name": "python3"
  },
  "language_info": {
   "codemirror_mode": {
    "name": "ipython",
    "version": 3
   },
   "file_extension": ".py",
   "mimetype": "text/x-python",
   "name": "python",
   "nbconvert_exporter": "python",
   "pygments_lexer": "ipython3",
   "version": "3.12.4"
  }
 },
 "nbformat": 4,
 "nbformat_minor": 5
}
