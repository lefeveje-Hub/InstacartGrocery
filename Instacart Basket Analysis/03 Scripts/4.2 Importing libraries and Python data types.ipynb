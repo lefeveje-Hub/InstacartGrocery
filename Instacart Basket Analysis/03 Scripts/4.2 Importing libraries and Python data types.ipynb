{
 "cells": [
  {
   "cell_type": "markdown",
   "id": "a24a718a-4a17-4bd2-a9ff-f42f7bb3226d",
   "metadata": {},
   "source": [
    "# 01. Importing Libraries"
   ]
  },
  {
   "cell_type": "code",
   "execution_count": 1,
   "id": "8ad30251-a192-47a0-8c43-8231df25872f",
   "metadata": {},
   "outputs": [],
   "source": [
    "# Import libraries\n",
    "import pandas as pd\n",
    "import numpy as np\n",
    "import os"
   ]
  },
  {
   "cell_type": "markdown",
   "id": "8f75f958-9146-4434-9f47-b6ed39e978be",
   "metadata": {},
   "source": [
    "# 02. Working with Data Types"
   ]
  },
  {
   "cell_type": "markdown",
   "id": "7e46bf36-34e2-45e2-bc50-c56fa2fb8541",
   "metadata": {},
   "source": [
    "# Three different ways of reaching 100 "
   ]
  },
  {
   "cell_type": "code",
   "execution_count": 37,
   "id": "a376e711-e726-4c8b-a2a8-3ffc95cba558",
   "metadata": {},
   "outputs": [
    {
     "ename": "SyntaxError",
     "evalue": "invalid syntax. Maybe you meant '==' or ':=' instead of '='? (409697190.py, line 1)",
     "output_type": "error",
     "traceback": [
      "\u001b[1;36m  Cell \u001b[1;32mIn[37], line 1\u001b[1;36m\u001b[0m\n\u001b[1;33m    x = 50, y = 150, z = 25\u001b[0m\n\u001b[1;37m    ^\u001b[0m\n\u001b[1;31mSyntaxError\u001b[0m\u001b[1;31m:\u001b[0m invalid syntax. Maybe you meant '==' or ':=' instead of '='?\n"
     ]
    }
   ],
   "source": [
    "x = 50, y = 150, z = 25"
   ]
  },
  {
   "cell_type": "code",
   "execution_count": 39,
   "id": "224f1202-064b-49d0-a439-75c9fa29fcf0",
   "metadata": {},
   "outputs": [],
   "source": [
    "x = 50"
   ]
  },
  {
   "cell_type": "code",
   "execution_count": 41,
   "id": "fac1fd0b-b064-4ecc-b83f-434a348b0e40",
   "metadata": {},
   "outputs": [],
   "source": [
    "y = 150"
   ]
  },
  {
   "cell_type": "code",
   "execution_count": 43,
   "id": "96834fe7-624b-4216-8537-baf670a020a6",
   "metadata": {},
   "outputs": [],
   "source": [
    "z = 25"
   ]
  },
  {
   "cell_type": "code",
   "execution_count": 45,
   "id": "a7224c93-4804-4d4f-be1d-6ba6ccaf7771",
   "metadata": {},
   "outputs": [
    {
     "data": {
      "text/plain": [
       "100"
      ]
     },
     "execution_count": 45,
     "metadata": {},
     "output_type": "execute_result"
    }
   ],
   "source": [
    "y - x"
   ]
  },
  {
   "cell_type": "code",
   "execution_count": 47,
   "id": "292614fe-6d1d-479e-8da8-a0c40e078320",
   "metadata": {},
   "outputs": [
    {
     "data": {
      "text/plain": [
       "100"
      ]
     },
     "execution_count": 47,
     "metadata": {},
     "output_type": "execute_result"
    }
   ],
   "source": [
    "x + z*2"
   ]
  },
  {
   "cell_type": "code",
   "execution_count": 49,
   "id": "21c7f4af-5e17-419f-800f-53617bc2324f",
   "metadata": {},
   "outputs": [
    {
     "data": {
      "text/plain": [
       "100"
      ]
     },
     "execution_count": 49,
     "metadata": {},
     "output_type": "execute_result"
    }
   ],
   "source": [
    "x*2"
   ]
  },
  {
   "cell_type": "markdown",
   "id": "8cad23f0-0b61-4a24-92ea-15cf9c4b56c1",
   "metadata": {},
   "source": [
    "# Two Floating-point variables devided by each other"
   ]
  },
  {
   "cell_type": "code",
   "execution_count": 51,
   "id": "a9e8d1ad-0e3e-43d7-a633-fcaf9e3a39fa",
   "metadata": {},
   "outputs": [],
   "source": [
    "x = 4.5"
   ]
  },
  {
   "cell_type": "code",
   "execution_count": 57,
   "id": "1c03beac-2785-4106-b871-309cda455cfc",
   "metadata": {},
   "outputs": [],
   "source": [
    "y = 25.25"
   ]
  },
  {
   "cell_type": "code",
   "execution_count": 59,
   "id": "0fc49f58-56cf-4230-9c69-b20a722e90d7",
   "metadata": {},
   "outputs": [
    {
     "data": {
      "text/plain": [
       "5.611111111111111"
      ]
     },
     "execution_count": 59,
     "metadata": {},
     "output_type": "execute_result"
    }
   ],
   "source": [
    "y/x"
   ]
  },
  {
   "cell_type": "markdown",
   "id": "94e0a67a-ca16-4ebc-955f-50be855a439c",
   "metadata": {},
   "source": [
    "# Strings word"
   ]
  },
  {
   "cell_type": "code",
   "execution_count": 64,
   "id": "a03e1638-deb2-4b05-93d4-57157eec594f",
   "metadata": {},
   "outputs": [],
   "source": [
    "a = 'Happy '"
   ]
  },
  {
   "cell_type": "code",
   "execution_count": 80,
   "id": "cf5506b6-872a-4c32-8bc3-2b3e20a14730",
   "metadata": {},
   "outputs": [],
   "source": [
    "b = 'NewYear '"
   ]
  },
  {
   "cell_type": "code",
   "execution_count": 68,
   "id": "96c00c8b-2d17-44fb-8fee-90c4231c7636",
   "metadata": {},
   "outputs": [
    {
     "data": {
      "text/plain": [
       "'Happy NewYear'"
      ]
     },
     "execution_count": 68,
     "metadata": {},
     "output_type": "execute_result"
    }
   ],
   "source": [
    "a + b"
   ]
  },
  {
   "cell_type": "markdown",
   "id": "d036115a-0984-452a-ba37-1bad21827f26",
   "metadata": {},
   "source": [
    "# Two Strings Sentences"
   ]
  },
  {
   "cell_type": "code",
   "execution_count": 82,
   "id": "c29492d3-c2e8-4f13-b1ba-0a24035b4752",
   "metadata": {},
   "outputs": [],
   "source": [
    "c = 'everyone '"
   ]
  },
  {
   "cell_type": "code",
   "execution_count": 84,
   "id": "8d3b3557-fb7b-4e3b-8f64-d1b9a3cab27c",
   "metadata": {},
   "outputs": [],
   "source": [
    "d = 'and '"
   ]
  },
  {
   "cell_type": "code",
   "execution_count": 86,
   "id": "c40d67ee-77f8-45c3-8316-4bbcd38ad9a5",
   "metadata": {},
   "outputs": [],
   "source": [
    "e = 'enjoy '"
   ]
  },
  {
   "cell_type": "code",
   "execution_count": 88,
   "id": "860dff14-e02f-4537-a305-2c4bf7c94fd1",
   "metadata": {},
   "outputs": [],
   "source": [
    "f = 'your '"
   ]
  },
  {
   "cell_type": "code",
   "execution_count": 90,
   "id": "86d6a6d9-8b9a-4627-85ae-3cd217317e38",
   "metadata": {},
   "outputs": [],
   "source": [
    "g = 'day '"
   ]
  },
  {
   "cell_type": "code",
   "execution_count": 94,
   "id": "ba1536d8-4374-4759-b79f-9de9f83754f8",
   "metadata": {},
   "outputs": [
    {
     "data": {
      "text/plain": [
       "'Happy NewYear everyone and enjoy '"
      ]
     },
     "execution_count": 94,
     "metadata": {},
     "output_type": "execute_result"
    }
   ],
   "source": [
    "a + b + c + d + e"
   ]
  },
  {
   "cell_type": "code",
   "execution_count": 96,
   "id": "06ac18af-aa73-4a7c-ae0c-d1c47f7c2d6b",
   "metadata": {},
   "outputs": [
    {
     "data": {
      "text/plain": [
       "'enjoy your day everyone '"
      ]
     },
     "execution_count": 96,
     "metadata": {},
     "output_type": "execute_result"
    }
   ],
   "source": [
    "e + f + g + c"
   ]
  },
  {
   "cell_type": "markdown",
   "id": "6f40adc4-ebd9-4a35-9655-eb2e5a78e34c",
   "metadata": {},
   "source": [
    "# Make a string appear 100 times"
   ]
  },
  {
   "cell_type": "code",
   "execution_count": 98,
   "id": "50a8a83c-5d4c-4224-87cb-37d935251f6b",
   "metadata": {},
   "outputs": [
    {
     "data": {
      "text/plain": [
       "'everyone everyone everyone everyone everyone everyone everyone everyone everyone everyone everyone everyone everyone everyone everyone everyone everyone everyone everyone everyone everyone everyone everyone everyone everyone everyone everyone everyone everyone everyone everyone everyone everyone everyone everyone everyone everyone everyone everyone everyone everyone everyone everyone everyone everyone everyone everyone everyone everyone everyone everyone everyone everyone everyone everyone everyone everyone everyone everyone everyone everyone everyone everyone everyone everyone everyone everyone everyone everyone everyone everyone everyone everyone everyone everyone everyone everyone everyone everyone everyone everyone everyone everyone everyone everyone everyone everyone everyone everyone everyone everyone everyone everyone everyone everyone everyone everyone everyone everyone everyone '"
      ]
     },
     "execution_count": 98,
     "metadata": {},
     "output_type": "execute_result"
    }
   ],
   "source": [
    "c*100"
   ]
  },
  {
   "cell_type": "code",
   "execution_count": null,
   "id": "9ba01e83-594b-424e-bd13-9af6c1188a70",
   "metadata": {},
   "outputs": [],
   "source": []
  },
  {
   "cell_type": "markdown",
   "id": "fef51d6e-691f-42aa-9a95-210cdf75f2f5",
   "metadata": {},
   "source": [
    "#03. Work from Exercise Sample"
   ]
  },
  {
   "cell_type": "code",
   "execution_count": 3,
   "id": "6ef7e5f6-d08a-46dc-81ad-f9b83ca23a27",
   "metadata": {},
   "outputs": [],
   "source": [
    "x = 2"
   ]
  },
  {
   "cell_type": "markdown",
   "id": "1d4f0271-747e-4719-a36a-640b22be8b51",
   "metadata": {},
   "source": [
    "x"
   ]
  },
  {
   "cell_type": "code",
   "execution_count": 6,
   "id": "bc242a4a-d8ab-4da7-9190-e6b33f41fb66",
   "metadata": {},
   "outputs": [
    {
     "name": "stdout",
     "output_type": "stream",
     "text": [
      "2\n"
     ]
    }
   ],
   "source": [
    "print(x)"
   ]
  },
  {
   "cell_type": "code",
   "execution_count": 8,
   "id": "5508de51-6d30-4773-b1e2-dff9c1c550e5",
   "metadata": {},
   "outputs": [
    {
     "data": {
      "text/plain": [
       "2"
      ]
     },
     "execution_count": 8,
     "metadata": {},
     "output_type": "execute_result"
    }
   ],
   "source": [
    "x"
   ]
  },
  {
   "cell_type": "code",
   "execution_count": 10,
   "id": "559b54f1-bdfa-4630-9a32-993a74ef7cb7",
   "metadata": {},
   "outputs": [
    {
     "data": {
      "text/plain": [
       "int"
      ]
     },
     "execution_count": 10,
     "metadata": {},
     "output_type": "execute_result"
    }
   ],
   "source": [
    "type(x)"
   ]
  },
  {
   "cell_type": "code",
   "execution_count": 12,
   "id": "aea7137b-3407-4c95-ac77-b02a5da88789",
   "metadata": {},
   "outputs": [],
   "source": [
    "y = 5.678"
   ]
  },
  {
   "cell_type": "code",
   "execution_count": 14,
   "id": "60b31416-5f96-413e-ac3d-fa7bd4bd0959",
   "metadata": {},
   "outputs": [
    {
     "data": {
      "text/plain": [
       "float"
      ]
     },
     "execution_count": 14,
     "metadata": {},
     "output_type": "execute_result"
    }
   ],
   "source": [
    "type(y)"
   ]
  },
  {
   "cell_type": "code",
   "execution_count": 16,
   "id": "b90e4732-f423-4374-9d6c-beed00f40a01",
   "metadata": {},
   "outputs": [],
   "source": [
    "z = 'Brazil'"
   ]
  },
  {
   "cell_type": "code",
   "execution_count": 18,
   "id": "547f0a36-92e3-435f-a3cd-4731013f418f",
   "metadata": {},
   "outputs": [
    {
     "data": {
      "text/plain": [
       "str"
      ]
     },
     "execution_count": 18,
     "metadata": {},
     "output_type": "execute_result"
    }
   ],
   "source": [
    "type(z)"
   ]
  },
  {
   "cell_type": "code",
   "execution_count": 20,
   "id": "4a48f2fd-a3fa-4ec7-a850-b928feb96cef",
   "metadata": {},
   "outputs": [
    {
     "data": {
      "text/plain": [
       "bool"
      ]
     },
     "execution_count": 20,
     "metadata": {},
     "output_type": "execute_result"
    }
   ],
   "source": [
    "type(True)"
   ]
  },
  {
   "cell_type": "code",
   "execution_count": 22,
   "id": "d678f13e-4569-44b4-b1c7-85920e239bb2",
   "metadata": {},
   "outputs": [
    {
     "data": {
      "text/plain": [
       "6"
      ]
     },
     "execution_count": 22,
     "metadata": {},
     "output_type": "execute_result"
    }
   ],
   "source": [
    "x + 4 "
   ]
  },
  {
   "cell_type": "code",
   "execution_count": 27,
   "id": "85fe187c-5170-4f8f-93eb-8021bf04212e",
   "metadata": {},
   "outputs": [],
   "source": [
    "a = 'Hello'"
   ]
  },
  {
   "cell_type": "code",
   "execution_count": 29,
   "id": "0bd526ba-8312-4de8-8657-f1b318916d84",
   "metadata": {},
   "outputs": [],
   "source": [
    "b = 'Marley'"
   ]
  },
  {
   "cell_type": "code",
   "execution_count": 31,
   "id": "7f7f8cd0-4997-4b34-89be-a28a9e8af720",
   "metadata": {},
   "outputs": [
    {
     "data": {
      "text/plain": [
       "'HelloMarley'"
      ]
     },
     "execution_count": 31,
     "metadata": {},
     "output_type": "execute_result"
    }
   ],
   "source": [
    "a + b"
   ]
  },
  {
   "cell_type": "code",
   "execution_count": 33,
   "id": "f3dd3d8b-862b-4db6-8623-11fd35b4f95c",
   "metadata": {},
   "outputs": [
    {
     "data": {
      "text/plain": [
       "False"
      ]
     },
     "execution_count": 33,
     "metadata": {},
     "output_type": "execute_result"
    }
   ],
   "source": [
    "x == y"
   ]
  },
  {
   "cell_type": "code",
   "execution_count": 35,
   "id": "93b4e75e-7435-4135-a752-d188e3a642d1",
   "metadata": {},
   "outputs": [
    {
     "data": {
      "text/plain": [
       "bool"
      ]
     },
     "execution_count": 35,
     "metadata": {},
     "output_type": "execute_result"
    }
   ],
   "source": [
    "type(x == y)"
   ]
  },
  {
   "cell_type": "code",
   "execution_count": null,
   "id": "6f50162e-2c5f-4c96-873d-41e7aebaf9e3",
   "metadata": {},
   "outputs": [],
   "source": []
  }
 ],
 "metadata": {
  "kernelspec": {
   "display_name": "Python 3 (ipykernel)",
   "language": "python",
   "name": "python3"
  },
  "language_info": {
   "codemirror_mode": {
    "name": "ipython",
    "version": 3
   },
   "file_extension": ".py",
   "mimetype": "text/x-python",
   "name": "python",
   "nbconvert_exporter": "python",
   "pygments_lexer": "ipython3",
   "version": "3.12.4"
  }
 },
 "nbformat": 4,
 "nbformat_minor": 5
}
