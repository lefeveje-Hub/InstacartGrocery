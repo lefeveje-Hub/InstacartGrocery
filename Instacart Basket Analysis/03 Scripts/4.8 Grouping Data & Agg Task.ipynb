{
 "cells": [
  {
   "cell_type": "markdown",
   "id": "fdd66c25-53cf-4b04-be01-6a2a7c5a94f8",
   "metadata": {},
   "source": [
    "# 4.8 Grouping Data and Aggregating Variables"
   ]
  },
  {
   "cell_type": "markdown",
   "id": "0863c7b0-a64f-4212-adb0-b26d4a6d9a37",
   "metadata": {},
   "source": [
    "## Setup"
   ]
  },
  {
   "cell_type": "code",
   "execution_count": 34,
   "id": "d4a21fe5-24e5-4022-9d9b-e964f74612de",
   "metadata": {},
   "outputs": [],
   "source": [
    "# Import Libraries\n",
    "\n",
    "import pandas as pd\n",
    "import numpy as np\n",
    "import os"
   ]
  },
  {
   "cell_type": "code",
   "execution_count": 35,
   "id": "44f7d8cb-0509-4403-9dcb-b9928bb96d39",
   "metadata": {},
   "outputs": [],
   "source": [
    "# Import ords_prods_merge\n",
    "\n",
    "path = r'C:\\Users\\lefev\\Documents\\Data Analytics Course\\Instacart Basket Analysis'"
   ]
  },
  {
   "cell_type": "code",
   "execution_count": 36,
   "id": "9c288665-dbdd-4f5e-9f99-6e0aaa5fb0a1",
   "metadata": {},
   "outputs": [],
   "source": [
    "ords_prods_merge = pd.read_pickle(os.path.join(path, '02 Data', 'Prepared Data', 'orders_prods_merge_updated.pkl'))"
   ]
  },
  {
   "cell_type": "markdown",
   "id": "9cc3425d-7e81-4a36-a110-825d5cbc4fa4",
   "metadata": {},
   "source": [
    "## Find the average 'order_number' per deparment_id"
   ]
  },
  {
   "cell_type": "code",
   "execution_count": 38,
   "id": "bc39c0e7-08d0-48cc-a289-24591e3a0f88",
   "metadata": {},
   "outputs": [
    {
     "data": {
      "text/html": [
       "<div>\n",
       "<style scoped>\n",
       "    .dataframe tbody tr th:only-of-type {\n",
       "        vertical-align: middle;\n",
       "    }\n",
       "\n",
       "    .dataframe tbody tr th {\n",
       "        vertical-align: top;\n",
       "    }\n",
       "\n",
       "    .dataframe thead tr th {\n",
       "        text-align: left;\n",
       "    }\n",
       "\n",
       "    .dataframe thead tr:last-of-type th {\n",
       "        text-align: right;\n",
       "    }\n",
       "</style>\n",
       "<table border=\"1\" class=\"dataframe\">\n",
       "  <thead>\n",
       "    <tr>\n",
       "      <th></th>\n",
       "      <th>order_number</th>\n",
       "    </tr>\n",
       "    <tr>\n",
       "      <th></th>\n",
       "      <th>mean</th>\n",
       "    </tr>\n",
       "    <tr>\n",
       "      <th>department_id</th>\n",
       "      <th></th>\n",
       "    </tr>\n",
       "  </thead>\n",
       "  <tbody>\n",
       "    <tr>\n",
       "      <th>1</th>\n",
       "      <td>15.457838</td>\n",
       "    </tr>\n",
       "    <tr>\n",
       "      <th>2</th>\n",
       "      <td>17.277920</td>\n",
       "    </tr>\n",
       "    <tr>\n",
       "      <th>3</th>\n",
       "      <td>17.170395</td>\n",
       "    </tr>\n",
       "    <tr>\n",
       "      <th>4</th>\n",
       "      <td>17.811403</td>\n",
       "    </tr>\n",
       "    <tr>\n",
       "      <th>5</th>\n",
       "      <td>15.215751</td>\n",
       "    </tr>\n",
       "    <tr>\n",
       "      <th>6</th>\n",
       "      <td>16.439806</td>\n",
       "    </tr>\n",
       "    <tr>\n",
       "      <th>7</th>\n",
       "      <td>17.225802</td>\n",
       "    </tr>\n",
       "    <tr>\n",
       "      <th>8</th>\n",
       "      <td>15.340650</td>\n",
       "    </tr>\n",
       "    <tr>\n",
       "      <th>9</th>\n",
       "      <td>15.895474</td>\n",
       "    </tr>\n",
       "    <tr>\n",
       "      <th>10</th>\n",
       "      <td>20.197148</td>\n",
       "    </tr>\n",
       "    <tr>\n",
       "      <th>11</th>\n",
       "      <td>16.170638</td>\n",
       "    </tr>\n",
       "    <tr>\n",
       "      <th>12</th>\n",
       "      <td>15.887671</td>\n",
       "    </tr>\n",
       "    <tr>\n",
       "      <th>13</th>\n",
       "      <td>16.583536</td>\n",
       "    </tr>\n",
       "    <tr>\n",
       "      <th>14</th>\n",
       "      <td>16.773669</td>\n",
       "    </tr>\n",
       "    <tr>\n",
       "      <th>15</th>\n",
       "      <td>16.165037</td>\n",
       "    </tr>\n",
       "    <tr>\n",
       "      <th>16</th>\n",
       "      <td>17.665606</td>\n",
       "    </tr>\n",
       "    <tr>\n",
       "      <th>17</th>\n",
       "      <td>15.694469</td>\n",
       "    </tr>\n",
       "    <tr>\n",
       "      <th>18</th>\n",
       "      <td>19.310397</td>\n",
       "    </tr>\n",
       "    <tr>\n",
       "      <th>19</th>\n",
       "      <td>17.177343</td>\n",
       "    </tr>\n",
       "    <tr>\n",
       "      <th>20</th>\n",
       "      <td>16.473447</td>\n",
       "    </tr>\n",
       "    <tr>\n",
       "      <th>21</th>\n",
       "      <td>22.902379</td>\n",
       "    </tr>\n",
       "  </tbody>\n",
       "</table>\n",
       "</div>"
      ],
      "text/plain": [
       "              order_number\n",
       "                      mean\n",
       "department_id             \n",
       "1                15.457838\n",
       "2                17.277920\n",
       "3                17.170395\n",
       "4                17.811403\n",
       "5                15.215751\n",
       "6                16.439806\n",
       "7                17.225802\n",
       "8                15.340650\n",
       "9                15.895474\n",
       "10               20.197148\n",
       "11               16.170638\n",
       "12               15.887671\n",
       "13               16.583536\n",
       "14               16.773669\n",
       "15               16.165037\n",
       "16               17.665606\n",
       "17               15.694469\n",
       "18               19.310397\n",
       "19               17.177343\n",
       "20               16.473447\n",
       "21               22.902379"
      ]
     },
     "execution_count": 38,
     "metadata": {},
     "output_type": "execute_result"
    }
   ],
   "source": [
    "# Aggregate the mean of 'order_number' (number of orders) column grouped by 'department_id'\n",
    "\n",
    "ords_prods_merge.groupby('department_id').agg({'order_number': ['mean']})"
   ]
  },
  {
   "cell_type": "markdown",
   "id": "382fb582-5097-4605-986f-ab8e62102800",
   "metadata": {},
   "source": [
    "## The answers for the entire dataframe are not so different from the sample size in the exercise. Typically on +/- 1 or 2 orders"
   ]
  },
  {
   "cell_type": "markdown",
   "id": "fe6617c6-717c-440d-85ed-6d7d9b19069f",
   "metadata": {},
   "source": [
    "## Create a loyalty flag for existing customers"
   ]
  },
  {
   "cell_type": "code",
   "execution_count": 41,
   "id": "adc89268-956f-43fc-82e4-747bd592aaec",
   "metadata": {},
   "outputs": [
    {
     "name": "stderr",
     "output_type": "stream",
     "text": [
      "C:\\Users\\lefev\\AppData\\Local\\Temp\\ipykernel_16316\\4155048890.py:3: FutureWarning: The provided callable <function max at 0x0000029E4D77A0C0> is currently using SeriesGroupBy.max. In a future version of pandas, the provided callable will be used directly. To keep current behavior pass the string \"max\" instead.\n",
      "  ords_prods_merge['max_order'] = ords_prods_merge.groupby(['user_id'])['order_number'].transform(np.max)\n"
     ]
    }
   ],
   "source": [
    "# Create a max order column\n",
    "\n",
    "ords_prods_merge['max_order'] = ords_prods_merge.groupby(['user_id'])['order_number'].transform(np.max)"
   ]
  },
  {
   "cell_type": "code",
   "execution_count": 42,
   "id": "41315a01-6c26-4230-a91b-9cfc96d05063",
   "metadata": {},
   "outputs": [],
   "source": [
    "# Create a loyalty flag\n",
    "\n",
    "ords_prods_merge.loc[ords_prods_merge['max_order'] > 40, 'loyalty_flag'] = 'Loyal customer'"
   ]
  },
  {
   "cell_type": "code",
   "execution_count": 43,
   "id": "b8dadab1-bd58-4667-9203-65c2488627a9",
   "metadata": {},
   "outputs": [],
   "source": [
    "ords_prods_merge.loc[(ords_prods_merge['max_order'] <= 40) & (ords_prods_merge['max_order'] > 10), 'loyalty_flag'] = 'Regular customer'"
   ]
  },
  {
   "cell_type": "code",
   "execution_count": 44,
   "id": "ccfe450b-7aac-495b-84be-150a96ac29d2",
   "metadata": {},
   "outputs": [],
   "source": [
    "ords_prods_merge.loc[ords_prods_merge['max_order'] <= 10, 'loyalty_flag'] = 'New customer'"
   ]
  },
  {
   "cell_type": "code",
   "execution_count": 45,
   "id": "e0808f20-acd7-41de-b5d7-e5d875f43228",
   "metadata": {},
   "outputs": [
    {
     "data": {
      "text/plain": [
       "loyalty_flag\n",
       "Regular customer    15876776\n",
       "Loyal customer      10284093\n",
       "New customer         6243990\n",
       "Name: count, dtype: int64"
      ]
     },
     "execution_count": 45,
     "metadata": {},
     "output_type": "execute_result"
    }
   ],
   "source": [
    "ords_prods_merge['loyalty_flag'].value_counts(dropna = False)"
   ]
  },
  {
   "cell_type": "markdown",
   "id": "255d95d9-f43d-444c-bcd7-f0310636b0f5",
   "metadata": {},
   "source": [
    "## Question 5 - How does each loyalty catagory spend on products"
   ]
  },
  {
   "cell_type": "code",
   "execution_count": 47,
   "id": "975d01b5-0c52-40fd-ad03-3018af9e21bc",
   "metadata": {},
   "outputs": [
    {
     "data": {
      "text/html": [
       "<div>\n",
       "<style scoped>\n",
       "    .dataframe tbody tr th:only-of-type {\n",
       "        vertical-align: middle;\n",
       "    }\n",
       "\n",
       "    .dataframe tbody tr th {\n",
       "        vertical-align: top;\n",
       "    }\n",
       "\n",
       "    .dataframe thead th {\n",
       "        text-align: right;\n",
       "    }\n",
       "</style>\n",
       "<table border=\"1\" class=\"dataframe\">\n",
       "  <thead>\n",
       "    <tr style=\"text-align: right;\">\n",
       "      <th></th>\n",
       "      <th>count</th>\n",
       "      <th>mean</th>\n",
       "      <th>std</th>\n",
       "      <th>min</th>\n",
       "      <th>25%</th>\n",
       "      <th>50%</th>\n",
       "      <th>75%</th>\n",
       "      <th>max</th>\n",
       "    </tr>\n",
       "    <tr>\n",
       "      <th>loyalty_flag</th>\n",
       "      <th></th>\n",
       "      <th></th>\n",
       "      <th></th>\n",
       "      <th></th>\n",
       "      <th></th>\n",
       "      <th></th>\n",
       "      <th></th>\n",
       "      <th></th>\n",
       "    </tr>\n",
       "  </thead>\n",
       "  <tbody>\n",
       "    <tr>\n",
       "      <th>Loyal customer</th>\n",
       "      <td>10284093.0</td>\n",
       "      <td>10.386336</td>\n",
       "      <td>328.017787</td>\n",
       "      <td>1.0</td>\n",
       "      <td>4.2</td>\n",
       "      <td>7.4</td>\n",
       "      <td>11.2</td>\n",
       "      <td>99999.0</td>\n",
       "    </tr>\n",
       "    <tr>\n",
       "      <th>New customer</th>\n",
       "      <td>6243990.0</td>\n",
       "      <td>13.294670</td>\n",
       "      <td>597.560299</td>\n",
       "      <td>1.0</td>\n",
       "      <td>4.2</td>\n",
       "      <td>7.4</td>\n",
       "      <td>11.3</td>\n",
       "      <td>99999.0</td>\n",
       "    </tr>\n",
       "    <tr>\n",
       "      <th>Regular customer</th>\n",
       "      <td>15876776.0</td>\n",
       "      <td>12.495717</td>\n",
       "      <td>539.720919</td>\n",
       "      <td>1.0</td>\n",
       "      <td>4.2</td>\n",
       "      <td>7.4</td>\n",
       "      <td>11.3</td>\n",
       "      <td>99999.0</td>\n",
       "    </tr>\n",
       "  </tbody>\n",
       "</table>\n",
       "</div>"
      ],
      "text/plain": [
       "                       count       mean         std  min  25%  50%   75%  \\\n",
       "loyalty_flag                                                               \n",
       "Loyal customer    10284093.0  10.386336  328.017787  1.0  4.2  7.4  11.2   \n",
       "New customer       6243990.0  13.294670  597.560299  1.0  4.2  7.4  11.3   \n",
       "Regular customer  15876776.0  12.495717  539.720919  1.0  4.2  7.4  11.3   \n",
       "\n",
       "                      max  \n",
       "loyalty_flag               \n",
       "Loyal customer    99999.0  \n",
       "New customer      99999.0  \n",
       "Regular customer  99999.0  "
      ]
     },
     "execution_count": 47,
     "metadata": {},
     "output_type": "execute_result"
    }
   ],
   "source": [
    "# Frist group by loyalty catagory \n",
    "\n",
    "ords_prods_merge.groupby('loyalty_flag')['prices'].describe()"
   ]
  },
  {
   "cell_type": "markdown",
   "id": "4e272259-2433-4533-a2e8-af9ba23abbfb",
   "metadata": {},
   "source": [
    "## Loyal customers do tend to buy slightly cheaper products than new and regular customers. The newer customers spend the most on products"
   ]
  },
  {
   "cell_type": "markdown",
   "id": "d704f924-d37f-48a4-a49d-663fc75c5dee",
   "metadata": {},
   "source": [
    "## Question 6 - Create a spending flag for Low Spender and High Spender "
   ]
  },
  {
   "cell_type": "code",
   "execution_count": 64,
   "id": "25beb73a-43a9-4eda-9f8b-d347c73cf14e",
   "metadata": {},
   "outputs": [],
   "source": [
    "# Create a new avg_price column using groupby and transform \n",
    "\n",
    "ords_prods_merge['avg_price'] = ords_prods_merge.groupby(['user_id'])['prices'].transform('mean')"
   ]
  },
  {
   "cell_type": "code",
   "execution_count": 66,
   "id": "a133a885-917e-4d53-9111-6dc69ee1c5ad",
   "metadata": {},
   "outputs": [],
   "source": [
    "# Create spending flag\n",
    "\n",
    "ords_prods_merge.loc[ords_prods_merge['avg_price'] > 10, 'spending_flag'] = 'High spender'"
   ]
  },
  {
   "cell_type": "code",
   "execution_count": 68,
   "id": "9c333648-9c72-4566-b5c7-29f72816548a",
   "metadata": {},
   "outputs": [],
   "source": [
    "ords_prods_merge.loc[ords_prods_merge['avg_price'] <= 10, 'spending_flag'] = 'Low spender'\n"
   ]
  },
  {
   "cell_type": "code",
   "execution_count": 70,
   "id": "9fa638ca-ce12-4d2f-be6c-03e5e8ea0abf",
   "metadata": {},
   "outputs": [
    {
     "data": {
      "text/plain": [
       "spending_flag\n",
       "Low spender     31770995\n",
       "High spender      633864\n",
       "Name: count, dtype: int64"
      ]
     },
     "execution_count": 70,
     "metadata": {},
     "output_type": "execute_result"
    }
   ],
   "source": [
    "ords_prods_merge['spending_flag'].value_counts(dropna=False)"
   ]
  },
  {
   "cell_type": "markdown",
   "id": "eca7fda1-942d-4b1f-806c-deb00dfca25e",
   "metadata": {},
   "source": [
    "## Question 7 - Create an order frequency flag marking regularity of user ordering behavior"
   ]
  },
  {
   "cell_type": "code",
   "execution_count": 73,
   "id": "b9adf6e8-c070-4e56-b8a3-9fda40b9a9a0",
   "metadata": {},
   "outputs": [],
   "source": [
    "# Create a new median_days column using groupby and transform\n",
    "\n",
    "ords_prods_merge['median_days'] = ords_prods_merge.groupby(['user_id'])['days_since_prior_order'].transform('median')"
   ]
  },
  {
   "cell_type": "code",
   "execution_count": 75,
   "id": "ddc6579b-9bf6-498b-ba42-2d8528fbf7e6",
   "metadata": {},
   "outputs": [],
   "source": [
    "# Create the frequency_flag \n",
    "\n",
    "ords_prods_merge.loc[ords_prods_merge['median_days'] > 20, 'frequency_flag'] = 'Non-frequent customer'"
   ]
  },
  {
   "cell_type": "code",
   "execution_count": 76,
   "id": "32b30b3a-c097-4f81-9830-052e6a678385",
   "metadata": {},
   "outputs": [],
   "source": [
    "ords_prods_merge.loc[(ords_prods_merge['median_days'] > 10) & (ords_prods_merge['median_days'] <= 20), 'frequency_flag'] = 'Regular customer'"
   ]
  },
  {
   "cell_type": "code",
   "execution_count": 77,
   "id": "ae62be04-77cd-4976-8d1d-958596436159",
   "metadata": {},
   "outputs": [],
   "source": [
    "ords_prods_merge.loc[ords_prods_merge['median_days'] <= 10, 'frequency_flag'] = 'Frequent customer'"
   ]
  },
  {
   "cell_type": "code",
   "execution_count": 83,
   "id": "1ec8b70b-2345-4b36-95a8-205b60920037",
   "metadata": {},
   "outputs": [
    {
     "data": {
      "text/plain": [
       "frequency_flag\n",
       "Frequent customer        21559853\n",
       "Regular customer          7208564\n",
       "Non-frequent customer     3636437\n",
       "NaN                             5\n",
       "Name: count, dtype: int64"
      ]
     },
     "execution_count": 83,
     "metadata": {},
     "output_type": "execute_result"
    }
   ],
   "source": [
    "ords_prods_merge['frequency_flag'].value_counts(dropna = False)"
   ]
  },
  {
   "cell_type": "markdown",
   "id": "5db5f205-1a4c-41cb-a54a-2f3da8293a35",
   "metadata": {},
   "source": [
    "# Export"
   ]
  },
  {
   "cell_type": "code",
   "execution_count": 88,
   "id": "3fd2f70d-b2ee-4f7a-b4cc-9b0cd93c9fde",
   "metadata": {},
   "outputs": [],
   "source": [
    "# Export \n",
    "\n",
    "ords_prods_merge.to_pickle(os.path.join(path, '02 Data','Prepared Data', 'orders_prods_merge_updated_grouped.pkl'))"
   ]
  },
  {
   "cell_type": "code",
   "execution_count": null,
   "id": "d27422bf-6deb-430f-bbe0-82371577ae03",
   "metadata": {},
   "outputs": [],
   "source": []
  },
  {
   "cell_type": "code",
   "execution_count": null,
   "id": "6c7234ed-d5cd-42de-90cf-aaf72191c210",
   "metadata": {},
   "outputs": [],
   "source": []
  }
 ],
 "metadata": {
  "kernelspec": {
   "display_name": "Python 3 (ipykernel)",
   "language": "python",
   "name": "python3"
  },
  "language_info": {
   "codemirror_mode": {
    "name": "ipython",
    "version": 3
   },
   "file_extension": ".py",
   "mimetype": "text/x-python",
   "name": "python",
   "nbconvert_exporter": "python",
   "pygments_lexer": "ipython3",
   "version": "3.12.4"
  }
 },
 "nbformat": 4,
 "nbformat_minor": 5
}
