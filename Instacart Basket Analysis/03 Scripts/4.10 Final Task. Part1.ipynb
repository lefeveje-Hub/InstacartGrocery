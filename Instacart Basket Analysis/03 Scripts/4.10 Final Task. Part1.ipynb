{
 "cells": [
  {
   "cell_type": "markdown",
   "id": "33409d82-1705-4828-abe1-bc6b62340528",
   "metadata": {},
   "source": [
    "# 4.10 Final Task, Part 1"
   ]
  },
  {
   "cell_type": "markdown",
   "id": "983c3fd4-e6db-4731-b7e2-d8adc8dd67b1",
   "metadata": {},
   "source": [
    "## Import"
   ]
  },
  {
   "cell_type": "code",
   "execution_count": 13,
   "id": "27cfb8e2-de9f-470c-b828-4f476c0bb556",
   "metadata": {},
   "outputs": [],
   "source": [
    "# Import Libraries\n",
    "\n",
    "import pandas as pd\n",
    "import numpy as np\n",
    "import os\n",
    "import matplotlib.pyplot as plt\n",
    "import seaborn as sns\n",
    "import scipy"
   ]
  },
  {
   "cell_type": "code",
   "execution_count": 14,
   "id": "0ec803cc-76de-4d14-a108-6be46f3dbcbb",
   "metadata": {},
   "outputs": [],
   "source": [
    "# Import dataframe\n",
    "\n",
    "path = r'C:\\Users\\lefev\\Documents\\Data Analytics Course\\Instacart Basket Analysis'"
   ]
  },
  {
   "cell_type": "code",
   "execution_count": 15,
   "id": "4b832a3f-85c5-4581-aa4e-3d888d7a09ad",
   "metadata": {},
   "outputs": [],
   "source": [
    "df_merged = pd.read_pickle(os.path.join(path, '02 Data', 'Prepared Data', 'customer_merged.pkl'))"
   ]
  },
  {
   "cell_type": "markdown",
   "id": "789c43b1-b8cf-4df1-8a92-9b4d5d2f0301",
   "metadata": {},
   "source": [
    "## Question 2. Security Implications"
   ]
  },
  {
   "cell_type": "code",
   "execution_count": 17,
   "id": "ba6ae11d-8ed1-441b-8605-b43229b3bfb5",
   "metadata": {},
   "outputs": [
    {
     "data": {
      "text/html": [
       "<div>\n",
       "<style scoped>\n",
       "    .dataframe tbody tr th:only-of-type {\n",
       "        vertical-align: middle;\n",
       "    }\n",
       "\n",
       "    .dataframe tbody tr th {\n",
       "        vertical-align: top;\n",
       "    }\n",
       "\n",
       "    .dataframe thead th {\n",
       "        text-align: right;\n",
       "    }\n",
       "</style>\n",
       "<table border=\"1\" class=\"dataframe\">\n",
       "  <thead>\n",
       "    <tr style=\"text-align: right;\">\n",
       "      <th></th>\n",
       "      <th>order_id</th>\n",
       "      <th>user_id</th>\n",
       "      <th>order_number</th>\n",
       "      <th>orders_day_of_week</th>\n",
       "      <th>order_time</th>\n",
       "      <th>days_since_prior_order</th>\n",
       "      <th>reordered</th>\n",
       "      <th>product_name</th>\n",
       "      <th>aisle_id</th>\n",
       "      <th>department_id</th>\n",
       "      <th>...</th>\n",
       "      <th>frequency_flag</th>\n",
       "      <th>gender</th>\n",
       "      <th>state</th>\n",
       "      <th>age</th>\n",
       "      <th>date_joined</th>\n",
       "      <th>number_of_children</th>\n",
       "      <th>fam_status</th>\n",
       "      <th>income</th>\n",
       "      <th>name</th>\n",
       "      <th>_merge</th>\n",
       "    </tr>\n",
       "  </thead>\n",
       "  <tbody>\n",
       "    <tr>\n",
       "      <th>0</th>\n",
       "      <td>431534</td>\n",
       "      <td>1</td>\n",
       "      <td>5</td>\n",
       "      <td>4</td>\n",
       "      <td>15</td>\n",
       "      <td>28.0</td>\n",
       "      <td>1.0</td>\n",
       "      <td>Soda</td>\n",
       "      <td>77</td>\n",
       "      <td>7</td>\n",
       "      <td>...</td>\n",
       "      <td>Non-frequent customer</td>\n",
       "      <td>Female</td>\n",
       "      <td>Alabama</td>\n",
       "      <td>31</td>\n",
       "      <td>2019-02-17</td>\n",
       "      <td>3</td>\n",
       "      <td>married</td>\n",
       "      <td>40423</td>\n",
       "      <td>Linda Nguyen</td>\n",
       "      <td>both</td>\n",
       "    </tr>\n",
       "    <tr>\n",
       "      <th>1</th>\n",
       "      <td>431534</td>\n",
       "      <td>1</td>\n",
       "      <td>5</td>\n",
       "      <td>4</td>\n",
       "      <td>15</td>\n",
       "      <td>28.0</td>\n",
       "      <td>1.0</td>\n",
       "      <td>Original Beef Jerky</td>\n",
       "      <td>23</td>\n",
       "      <td>19</td>\n",
       "      <td>...</td>\n",
       "      <td>Non-frequent customer</td>\n",
       "      <td>Female</td>\n",
       "      <td>Alabama</td>\n",
       "      <td>31</td>\n",
       "      <td>2019-02-17</td>\n",
       "      <td>3</td>\n",
       "      <td>married</td>\n",
       "      <td>40423</td>\n",
       "      <td>Linda Nguyen</td>\n",
       "      <td>both</td>\n",
       "    </tr>\n",
       "    <tr>\n",
       "      <th>2</th>\n",
       "      <td>431534</td>\n",
       "      <td>1</td>\n",
       "      <td>5</td>\n",
       "      <td>4</td>\n",
       "      <td>15</td>\n",
       "      <td>28.0</td>\n",
       "      <td>1.0</td>\n",
       "      <td>Pistachios</td>\n",
       "      <td>117</td>\n",
       "      <td>19</td>\n",
       "      <td>...</td>\n",
       "      <td>Non-frequent customer</td>\n",
       "      <td>Female</td>\n",
       "      <td>Alabama</td>\n",
       "      <td>31</td>\n",
       "      <td>2019-02-17</td>\n",
       "      <td>3</td>\n",
       "      <td>married</td>\n",
       "      <td>40423</td>\n",
       "      <td>Linda Nguyen</td>\n",
       "      <td>both</td>\n",
       "    </tr>\n",
       "    <tr>\n",
       "      <th>3</th>\n",
       "      <td>431534</td>\n",
       "      <td>1</td>\n",
       "      <td>5</td>\n",
       "      <td>4</td>\n",
       "      <td>15</td>\n",
       "      <td>28.0</td>\n",
       "      <td>1.0</td>\n",
       "      <td>Organic String Cheese</td>\n",
       "      <td>21</td>\n",
       "      <td>16</td>\n",
       "      <td>...</td>\n",
       "      <td>Non-frequent customer</td>\n",
       "      <td>Female</td>\n",
       "      <td>Alabama</td>\n",
       "      <td>31</td>\n",
       "      <td>2019-02-17</td>\n",
       "      <td>3</td>\n",
       "      <td>married</td>\n",
       "      <td>40423</td>\n",
       "      <td>Linda Nguyen</td>\n",
       "      <td>both</td>\n",
       "    </tr>\n",
       "    <tr>\n",
       "      <th>4</th>\n",
       "      <td>431534</td>\n",
       "      <td>1</td>\n",
       "      <td>5</td>\n",
       "      <td>4</td>\n",
       "      <td>15</td>\n",
       "      <td>28.0</td>\n",
       "      <td>0.0</td>\n",
       "      <td>Organic Fuji Apples</td>\n",
       "      <td>24</td>\n",
       "      <td>4</td>\n",
       "      <td>...</td>\n",
       "      <td>Non-frequent customer</td>\n",
       "      <td>Female</td>\n",
       "      <td>Alabama</td>\n",
       "      <td>31</td>\n",
       "      <td>2019-02-17</td>\n",
       "      <td>3</td>\n",
       "      <td>married</td>\n",
       "      <td>40423</td>\n",
       "      <td>Linda Nguyen</td>\n",
       "      <td>both</td>\n",
       "    </tr>\n",
       "  </tbody>\n",
       "</table>\n",
       "<p>5 rows × 29 columns</p>\n",
       "</div>"
      ],
      "text/plain": [
       "   order_id user_id  order_number  orders_day_of_week  order_time  \\\n",
       "0    431534       1             5                   4          15   \n",
       "1    431534       1             5                   4          15   \n",
       "2    431534       1             5                   4          15   \n",
       "3    431534       1             5                   4          15   \n",
       "4    431534       1             5                   4          15   \n",
       "\n",
       "   days_since_prior_order  reordered           product_name  aisle_id  \\\n",
       "0                    28.0        1.0                   Soda        77   \n",
       "1                    28.0        1.0    Original Beef Jerky        23   \n",
       "2                    28.0        1.0             Pistachios       117   \n",
       "3                    28.0        1.0  Organic String Cheese        21   \n",
       "4                    28.0        0.0    Organic Fuji Apples        24   \n",
       "\n",
       "   department_id  ...         frequency_flag  gender    state age  \\\n",
       "0              7  ...  Non-frequent customer  Female  Alabama  31   \n",
       "1             19  ...  Non-frequent customer  Female  Alabama  31   \n",
       "2             19  ...  Non-frequent customer  Female  Alabama  31   \n",
       "3             16  ...  Non-frequent customer  Female  Alabama  31   \n",
       "4              4  ...  Non-frequent customer  Female  Alabama  31   \n",
       "\n",
       "   date_joined number_of_children  fam_status income          name _merge  \n",
       "0   2019-02-17                  3     married  40423  Linda Nguyen   both  \n",
       "1   2019-02-17                  3     married  40423  Linda Nguyen   both  \n",
       "2   2019-02-17                  3     married  40423  Linda Nguyen   both  \n",
       "3   2019-02-17                  3     married  40423  Linda Nguyen   both  \n",
       "4   2019-02-17                  3     married  40423  Linda Nguyen   both  \n",
       "\n",
       "[5 rows x 29 columns]"
      ]
     },
     "execution_count": 17,
     "metadata": {},
     "output_type": "execute_result"
    }
   ],
   "source": [
    "# Check columns and data types\n",
    "\n",
    "df_merged.head()"
   ]
  },
  {
   "cell_type": "code",
   "execution_count": 18,
   "id": "9d92d964-5eda-4952-a7c1-ccfb3c2b1022",
   "metadata": {},
   "outputs": [],
   "source": [
    "# Drop unessesary columns \n",
    "\n",
    "df_merged = df_merged.drop(['reordered', 'aisle_id', '_merge'], axis=1)"
   ]
  },
  {
   "cell_type": "code",
   "execution_count": 19,
   "id": "5f76f2e0-1753-4d08-bc6a-2d6db0dabfb4",
   "metadata": {},
   "outputs": [
    {
     "name": "stdout",
     "output_type": "stream",
     "text": [
      "['order_id', 'user_id', 'order_number', 'orders_day_of_week', 'order_time', 'days_since_prior_order', 'product_name', 'department_id', 'prices', 'price_range_loc', 'busiest_days', 'busiest_period_of_day', 'max_order', 'loyalty_flag', 'avg_price', 'spending_flag', 'median_days', 'frequency_flag', 'gender', 'state', 'age', 'date_joined', 'number_of_children', 'fam_status', 'income', 'name']\n"
     ]
    }
   ],
   "source": [
    "# Double check all columns \n",
    "\n",
    "print(df_merged.columns.tolist())"
   ]
  },
  {
   "cell_type": "code",
   "execution_count": 20,
   "id": "9a5b21bc-6ea0-402f-8c20-51e8d3de8245",
   "metadata": {},
   "outputs": [],
   "source": [
    "# Drop more unessesary columns\n",
    "\n",
    "df_merged = df_merged.drop(['price_range_loc', 'median_days'], axis=1)"
   ]
  },
  {
   "cell_type": "markdown",
   "id": "59dc9db9-fd05-4ace-aad9-f657207220f1",
   "metadata": {},
   "source": [
    "## Answer to security implications - There are several reasons to be mindful fo PII. We have sensative data on people's names, gender, age, state, income, and number of dependents. It would need to be checked with the stakeholder on how to properly manage the data. "
   ]
  },
  {
   "cell_type": "markdown",
   "id": "a538a7fe-a626-4258-a9fd-54e9091fa02c",
   "metadata": {},
   "source": [
    "## Question 3. Customer spending based on region"
   ]
  },
  {
   "cell_type": "code",
   "execution_count": 23,
   "id": "a13f546d-9e52-440d-9a8b-c9fec93d9a37",
   "metadata": {},
   "outputs": [],
   "source": [
    "# Create a region column from the state information \n",
    "# Frist create a dictionary mapping states to their regions \n",
    "\n",
    "us_regions = {\n",
    "    # Northeast\n",
    "    'Connecticut': 'Northeast', 'Maine': 'Northeast', 'Massachusetts': 'Northeast',\n",
    "    'New Hampshire': 'Northeast', 'Rhode Island': 'Northeast', 'Vermont': 'Northeast',\n",
    "    'New York': 'Northeast', 'Pennsylvania': 'Northeast', 'New Jersey': 'Northeast',\n",
    "    \n",
    "    # Midwest\n",
    "    'Illinois': 'Midwest', 'Indiana': 'Midwest', 'Michigan': 'Midwest',\n",
    "    'Ohio': 'Midwest', 'Wisconsin': 'Midwest', 'Iowa': 'Midwest',\n",
    "    'Kansas': 'Midwest', 'Minnesota': 'Midwest', 'Missouri': 'Midwest',\n",
    "    'Nebraska': 'Midwest', 'North Dakota': 'Midwest', 'South Dakota': 'Midwest',\n",
    "    \n",
    "    # South\n",
    "    'Delaware': 'South', 'Florida': 'South', 'Georgia': 'South',\n",
    "    'Maryland': 'South', 'North Carolina': 'South', 'South Carolina': 'South',\n",
    "    'Virginia': 'South', 'West Virginia': 'South', 'Alabama': 'South',\n",
    "    'Kentucky': 'South', 'Mississippi': 'South', 'Tennessee': 'South',\n",
    "    'Arkansas': 'South', 'Louisiana': 'South', 'Oklahoma': 'South', 'Texas': 'South',\n",
    "    \n",
    "    # West\n",
    "    'Arizona': 'West', 'Colorado': 'West', 'Idaho': 'West', 'Montana': 'West',\n",
    "    'Nevada': 'West', 'New Mexico': 'West', 'Utah': 'West', 'Wyoming': 'West',\n",
    "    'Alaska': 'West', 'California': 'West', 'Hawaii': 'West', 'Oregon': 'West',\n",
    "    'Washington': 'West'\n",
    "}\n",
    "\n"
   ]
  },
  {
   "cell_type": "code",
   "execution_count": 24,
   "id": "38ea9015-453c-458c-8020-ad4bbbcbb8cb",
   "metadata": {},
   "outputs": [],
   "source": [
    "# Create the new column using map\n",
    "\n",
    "df_merged['region'] = df_merged['state'].map(us_regions)"
   ]
  },
  {
   "cell_type": "code",
   "execution_count": 25,
   "id": "a7f10ad7-a8e2-41bf-b296-d426c8c011d2",
   "metadata": {},
   "outputs": [
    {
     "data": {
      "text/html": [
       "<div>\n",
       "<style scoped>\n",
       "    .dataframe tbody tr th:only-of-type {\n",
       "        vertical-align: middle;\n",
       "    }\n",
       "\n",
       "    .dataframe tbody tr th {\n",
       "        vertical-align: top;\n",
       "    }\n",
       "\n",
       "    .dataframe thead th {\n",
       "        text-align: right;\n",
       "    }\n",
       "</style>\n",
       "<table border=\"1\" class=\"dataframe\">\n",
       "  <thead>\n",
       "    <tr style=\"text-align: right;\">\n",
       "      <th></th>\n",
       "      <th>state</th>\n",
       "      <th>region</th>\n",
       "    </tr>\n",
       "  </thead>\n",
       "  <tbody>\n",
       "    <tr>\n",
       "      <th>0</th>\n",
       "      <td>Alabama</td>\n",
       "      <td>South</td>\n",
       "    </tr>\n",
       "    <tr>\n",
       "      <th>1</th>\n",
       "      <td>Alabama</td>\n",
       "      <td>South</td>\n",
       "    </tr>\n",
       "    <tr>\n",
       "      <th>2</th>\n",
       "      <td>Alabama</td>\n",
       "      <td>South</td>\n",
       "    </tr>\n",
       "    <tr>\n",
       "      <th>3</th>\n",
       "      <td>Alabama</td>\n",
       "      <td>South</td>\n",
       "    </tr>\n",
       "    <tr>\n",
       "      <th>4</th>\n",
       "      <td>Alabama</td>\n",
       "      <td>South</td>\n",
       "    </tr>\n",
       "  </tbody>\n",
       "</table>\n",
       "</div>"
      ],
      "text/plain": [
       "     state region\n",
       "0  Alabama  South\n",
       "1  Alabama  South\n",
       "2  Alabama  South\n",
       "3  Alabama  South\n",
       "4  Alabama  South"
      ]
     },
     "execution_count": 25,
     "metadata": {},
     "output_type": "execute_result"
    }
   ],
   "source": [
    "# Check the new column \n",
    "\n",
    "df_merged[['state', 'region']].head()"
   ]
  },
  {
   "cell_type": "code",
   "execution_count": 128,
   "id": "11d38f99-b078-4b65-93ba-bd9bf414d435",
   "metadata": {},
   "outputs": [
    {
     "data": {
      "text/plain": [
       "<Axes: xlabel='region', ylabel='count'>"
      ]
     },
     "execution_count": 128,
     "metadata": {},
     "output_type": "execute_result"
    },
    {
     "data": {
      "image/png": "[encoded data removed]",
      "text/plain": [
       "<Figure size 1000x600 with 1 Axes>"
      ]
     },
     "metadata": {},
     "output_type": "display_data"
    }
   ],
   "source": [
    "# Determine the spending habits between US regions by creating a bar chart\n",
    "\n",
    "flag_fig = plt.figure(figsize=(10, 6))\n",
    "sns.countplot(data=df_merged, x='region', hue='spending_flag')"
   ]
  },
  {
   "cell_type": "markdown",
   "id": "cdbb485c-f8d8-46f0-a19c-d46506e83e04",
   "metadata": {},
   "source": [
    "## We see the South is the highest spending region. The northeast is the least. And there seems to be little difference in the number of high spenders accross the regions. "
   ]
  },
  {
   "cell_type": "markdown",
   "id": "b68aca5a-9ba7-405c-b525-57cb9bcfc0d1",
   "metadata": {},
   "source": [
    "## Question 4. Create and exclusion flag for low-activity customers (less than 5 orders) and export "
   ]
  },
  {
   "cell_type": "code",
   "execution_count": 29,
   "id": "6fd14482-f777-4bdb-af2b-619bbcb943b7",
   "metadata": {
    "scrolled": true
   },
   "outputs": [
    {
     "data": {
      "text/html": [
       "<div>\n",
       "<style scoped>\n",
       "    .dataframe tbody tr th:only-of-type {\n",
       "        vertical-align: middle;\n",
       "    }\n",
       "\n",
       "    .dataframe tbody tr th {\n",
       "        vertical-align: top;\n",
       "    }\n",
       "\n",
       "    .dataframe thead th {\n",
       "        text-align: right;\n",
       "    }\n",
       "</style>\n",
       "<table border=\"1\" class=\"dataframe\">\n",
       "  <thead>\n",
       "    <tr style=\"text-align: right;\">\n",
       "      <th></th>\n",
       "      <th>order_id</th>\n",
       "      <th>user_id</th>\n",
       "      <th>order_number</th>\n",
       "      <th>orders_day_of_week</th>\n",
       "      <th>order_time</th>\n",
       "      <th>days_since_prior_order</th>\n",
       "      <th>product_name</th>\n",
       "      <th>department_id</th>\n",
       "      <th>prices</th>\n",
       "      <th>busiest_days</th>\n",
       "      <th>...</th>\n",
       "      <th>frequency_flag</th>\n",
       "      <th>gender</th>\n",
       "      <th>state</th>\n",
       "      <th>age</th>\n",
       "      <th>date_joined</th>\n",
       "      <th>number_of_children</th>\n",
       "      <th>fam_status</th>\n",
       "      <th>income</th>\n",
       "      <th>name</th>\n",
       "      <th>region</th>\n",
       "    </tr>\n",
       "  </thead>\n",
       "  <tbody>\n",
       "    <tr>\n",
       "      <th>0</th>\n",
       "      <td>431534</td>\n",
       "      <td>1</td>\n",
       "      <td>5</td>\n",
       "      <td>4</td>\n",
       "      <td>15</td>\n",
       "      <td>28.0</td>\n",
       "      <td>Soda</td>\n",
       "      <td>7</td>\n",
       "      <td>9.0</td>\n",
       "      <td>Least busy days</td>\n",
       "      <td>...</td>\n",
       "      <td>Non-frequent customer</td>\n",
       "      <td>Female</td>\n",
       "      <td>Alabama</td>\n",
       "      <td>31</td>\n",
       "      <td>2019-02-17</td>\n",
       "      <td>3</td>\n",
       "      <td>married</td>\n",
       "      <td>40423</td>\n",
       "      <td>Linda Nguyen</td>\n",
       "      <td>South</td>\n",
       "    </tr>\n",
       "    <tr>\n",
       "      <th>1</th>\n",
       "      <td>431534</td>\n",
       "      <td>1</td>\n",
       "      <td>5</td>\n",
       "      <td>4</td>\n",
       "      <td>15</td>\n",
       "      <td>28.0</td>\n",
       "      <td>Original Beef Jerky</td>\n",
       "      <td>19</td>\n",
       "      <td>4.4</td>\n",
       "      <td>Least busy days</td>\n",
       "      <td>...</td>\n",
       "      <td>Non-frequent customer</td>\n",
       "      <td>Female</td>\n",
       "      <td>Alabama</td>\n",
       "      <td>31</td>\n",
       "      <td>2019-02-17</td>\n",
       "      <td>3</td>\n",
       "      <td>married</td>\n",
       "      <td>40423</td>\n",
       "      <td>Linda Nguyen</td>\n",
       "      <td>South</td>\n",
       "    </tr>\n",
       "    <tr>\n",
       "      <th>2</th>\n",
       "      <td>431534</td>\n",
       "      <td>1</td>\n",
       "      <td>5</td>\n",
       "      <td>4</td>\n",
       "      <td>15</td>\n",
       "      <td>28.0</td>\n",
       "      <td>Pistachios</td>\n",
       "      <td>19</td>\n",
       "      <td>3.0</td>\n",
       "      <td>Least busy days</td>\n",
       "      <td>...</td>\n",
       "      <td>Non-frequent customer</td>\n",
       "      <td>Female</td>\n",
       "      <td>Alabama</td>\n",
       "      <td>31</td>\n",
       "      <td>2019-02-17</td>\n",
       "      <td>3</td>\n",
       "      <td>married</td>\n",
       "      <td>40423</td>\n",
       "      <td>Linda Nguyen</td>\n",
       "      <td>South</td>\n",
       "    </tr>\n",
       "    <tr>\n",
       "      <th>3</th>\n",
       "      <td>431534</td>\n",
       "      <td>1</td>\n",
       "      <td>5</td>\n",
       "      <td>4</td>\n",
       "      <td>15</td>\n",
       "      <td>28.0</td>\n",
       "      <td>Organic String Cheese</td>\n",
       "      <td>16</td>\n",
       "      <td>8.6</td>\n",
       "      <td>Least busy days</td>\n",
       "      <td>...</td>\n",
       "      <td>Non-frequent customer</td>\n",
       "      <td>Female</td>\n",
       "      <td>Alabama</td>\n",
       "      <td>31</td>\n",
       "      <td>2019-02-17</td>\n",
       "      <td>3</td>\n",
       "      <td>married</td>\n",
       "      <td>40423</td>\n",
       "      <td>Linda Nguyen</td>\n",
       "      <td>South</td>\n",
       "    </tr>\n",
       "    <tr>\n",
       "      <th>4</th>\n",
       "      <td>431534</td>\n",
       "      <td>1</td>\n",
       "      <td>5</td>\n",
       "      <td>4</td>\n",
       "      <td>15</td>\n",
       "      <td>28.0</td>\n",
       "      <td>Organic Fuji Apples</td>\n",
       "      <td>4</td>\n",
       "      <td>2.7</td>\n",
       "      <td>Least busy days</td>\n",
       "      <td>...</td>\n",
       "      <td>Non-frequent customer</td>\n",
       "      <td>Female</td>\n",
       "      <td>Alabama</td>\n",
       "      <td>31</td>\n",
       "      <td>2019-02-17</td>\n",
       "      <td>3</td>\n",
       "      <td>married</td>\n",
       "      <td>40423</td>\n",
       "      <td>Linda Nguyen</td>\n",
       "      <td>South</td>\n",
       "    </tr>\n",
       "  </tbody>\n",
       "</table>\n",
       "<p>5 rows × 25 columns</p>\n",
       "</div>"
      ],
      "text/plain": [
       "   order_id user_id  order_number  orders_day_of_week  order_time  \\\n",
       "0    431534       1             5                   4          15   \n",
       "1    431534       1             5                   4          15   \n",
       "2    431534       1             5                   4          15   \n",
       "3    431534       1             5                   4          15   \n",
       "4    431534       1             5                   4          15   \n",
       "\n",
       "   days_since_prior_order           product_name  department_id  prices  \\\n",
       "0                    28.0                   Soda              7     9.0   \n",
       "1                    28.0    Original Beef Jerky             19     4.4   \n",
       "2                    28.0             Pistachios             19     3.0   \n",
       "3                    28.0  Organic String Cheese             16     8.6   \n",
       "4                    28.0    Organic Fuji Apples              4     2.7   \n",
       "\n",
       "      busiest_days  ...         frequency_flag  gender    state  age  \\\n",
       "0  Least busy days  ...  Non-frequent customer  Female  Alabama   31   \n",
       "1  Least busy days  ...  Non-frequent customer  Female  Alabama   31   \n",
       "2  Least busy days  ...  Non-frequent customer  Female  Alabama   31   \n",
       "3  Least busy days  ...  Non-frequent customer  Female  Alabama   31   \n",
       "4  Least busy days  ...  Non-frequent customer  Female  Alabama   31   \n",
       "\n",
       "  date_joined number_of_children fam_status income          name region  \n",
       "0  2019-02-17                  3    married  40423  Linda Nguyen  South  \n",
       "1  2019-02-17                  3    married  40423  Linda Nguyen  South  \n",
       "2  2019-02-17                  3    married  40423  Linda Nguyen  South  \n",
       "3  2019-02-17                  3    married  40423  Linda Nguyen  South  \n",
       "4  2019-02-17                  3    married  40423  Linda Nguyen  South  \n",
       "\n",
       "[5 rows x 25 columns]"
      ]
     },
     "execution_count": 29,
     "metadata": {},
     "output_type": "execute_result"
    }
   ],
   "source": [
    "# Check for what column that shows number of orders\n",
    "\n",
    "df_merged.head()"
   ]
  },
  {
   "cell_type": "code",
   "execution_count": 30,
   "id": "3820c963-6348-4059-b976-af7a1623166a",
   "metadata": {},
   "outputs": [
    {
     "data": {
      "text/plain": [
       "(32404859, 25)"
      ]
     },
     "execution_count": 30,
     "metadata": {},
     "output_type": "execute_result"
    }
   ],
   "source": [
    "df_merged.shape"
   ]
  },
  {
   "cell_type": "code",
   "execution_count": 31,
   "id": "7e783b48-6f91-4eb5-8bc2-28e60575588f",
   "metadata": {},
   "outputs": [],
   "source": [
    "# Use the groupby() and transform() functions to create the exclusion flag\n",
    "\n",
    "df_merged['exclusion_flag'] = np.where(df_merged.groupby('user_id')['order_id'].transform('count') < 5, 'Exclude', 'Include')"
   ]
  },
  {
   "cell_type": "code",
   "execution_count": 32,
   "id": "c04163a7-c85d-4703-93dd-f90954e76965",
   "metadata": {},
   "outputs": [
    {
     "name": "stdout",
     "output_type": "stream",
     "text": [
      "exclusion_flag\n",
      "Include    32401975\n",
      "Exclude        2884\n",
      "Name: count, dtype: int64\n"
     ]
    }
   ],
   "source": [
    "# Check value counts of exclusion flag\n",
    "\n",
    "print(df_merged['exclusion_flag'].value_counts(dropna=False))"
   ]
  },
  {
   "cell_type": "code",
   "execution_count": 33,
   "id": "2f031b58-295f-45c9-9b71-7b5b50b162df",
   "metadata": {},
   "outputs": [],
   "source": [
    "# Create df of exclusion flag to export\n",
    "\n",
    "df_filtered = df_merged[df_merged['exclusion_flag'] == 'Exclude']"
   ]
  },
  {
   "cell_type": "code",
   "execution_count": 34,
   "id": "fcd4a548-79e9-492d-9551-659be8a88257",
   "metadata": {},
   "outputs": [
    {
     "data": {
      "text/plain": [
       "(2884, 26)"
      ]
     },
     "execution_count": 34,
     "metadata": {},
     "output_type": "execute_result"
    }
   ],
   "source": [
    "# Check df_filtered \n",
    "\n",
    "df_filtered.shape"
   ]
  },
  {
   "cell_type": "code",
   "execution_count": 35,
   "id": "9f024bae-cf8a-473e-a9fb-57e7487941ce",
   "metadata": {},
   "outputs": [],
   "source": [
    "# Exlude the exclusion_flag form df merged by saying \"keep only the rows where exclusion_flag is 'Include'\"\n",
    "\n",
    "df_merged = df_merged.loc[df_merged['exclusion_flag'] == 'Include']"
   ]
  },
  {
   "cell_type": "code",
   "execution_count": 36,
   "id": "c9401a54-060b-47f5-9ef8-988616a2d63f",
   "metadata": {},
   "outputs": [
    {
     "data": {
      "text/plain": [
       "(32401975, 26)"
      ]
     },
     "execution_count": 36,
     "metadata": {},
     "output_type": "execute_result"
    }
   ],
   "source": [
    "# Check if rows changed \n",
    "\n",
    "df_merged.shape"
   ]
  },
  {
   "cell_type": "code",
   "execution_count": 37,
   "id": "f96b5cd6-d91f-4510-ac55-d1ee5fa733c5",
   "metadata": {},
   "outputs": [],
   "source": [
    "# Export exclusion flag as requested\n",
    "\n",
    "df_filtered.to_pickle(os.path.join(path, '02 Data','Prepared Data', 'filtered_exclusion.pkl'))"
   ]
  },
  {
   "cell_type": "markdown",
   "id": "c00d86e3-f3ab-4204-9bad-a4d90a17e507",
   "metadata": {},
   "source": [
    "## Question 5. Create a profiling variable based on age, income, certain goods, and number of dependents. "
   ]
  },
  {
   "cell_type": "markdown",
   "id": "8e07dc87-45b5-48ba-bdbc-78244fd8a92d",
   "metadata": {},
   "source": [
    "### First create a 70/30 sample to help with memory and then basic demographic catagories"
   ]
  },
  {
   "cell_type": "code",
   "execution_count": 42,
   "id": "f70fb20e-ebff-409b-9ebd-1a8153cc04a8",
   "metadata": {},
   "outputs": [],
   "source": [
    "# Create the 70/30 split with seed\n",
    "\n",
    "np.random.seed(4)\n",
    "dev = np.random.rand(len(df_merged)) <= 0.7"
   ]
  },
  {
   "cell_type": "code",
   "execution_count": 44,
   "id": "4b6892d9-d4ee-43f5-b393-3a49ca91ee17",
   "metadata": {},
   "outputs": [],
   "source": [
    "# Store the splits\n",
    "\n",
    "big = df_merged[dev]\n",
    "small = df_merged[~dev]"
   ]
  },
  {
   "cell_type": "markdown",
   "id": "baf93968-3ca1-4935-9cd1-a4262834f892",
   "metadata": {},
   "source": [
    "### Now creating profiling"
   ]
  },
  {
   "cell_type": "code",
   "execution_count": 49,
   "id": "1d553c4d-6e31-423c-908c-9d3fecbcff1a",
   "metadata": {},
   "outputs": [],
   "source": [
    "# Use .loc for all new columns and big sample to create profiles\n",
    "\n",
    "big.loc[:, 'age_category'] = pd.cut(\n",
    "    big['age'],\n",
    "    bins=[0, 25, 35, 50, 65, 100],\n",
    "    labels=['Young Adult', 'Early Career', 'Mid Career', 'Late Career', 'Senior']\n",
    ")\n",
    "\n",
    "big.loc[:, 'income_category'] = pd.cut(\n",
    "    big['income'],\n",
    "    bins=[0, 30000, 60000, 100000, float('inf')],\n",
    "    labels=['Budget', 'Middle Income', 'Upper Middle', 'Affluent']\n",
    ")\n",
    "\n",
    "big.loc[:, 'family_status'] = np.where(\n",
    "    big['number_of_children'] == 0, 'No Children',\n",
    "    np.where(big['number_of_children'] == 1, 'Single Child',\n",
    "            'Multiple Children')\n",
    ")"
   ]
  },
  {
   "cell_type": "code",
   "execution_count": 51,
   "id": "7e433147-9cd6-4bc1-898b-141bcea8946b",
   "metadata": {},
   "outputs": [],
   "source": [
    "# Create conditions for profiles\n",
    "\n",
    "conditions = [\n",
    "    # Young Singles\n",
    "    (big['age_category'].isin(['Young Adult', 'Early Career']) & \n",
    "     (big['family_status'] == 'No Children')),\n",
    "    \n",
    "    # Young Parents\n",
    "    (big['age_category'].isin(['Early Career', 'Mid Career']) & \n",
    "     (big['family_status'] != 'No Children')),\n",
    "    \n",
    "    # Empty Nesters\n",
    "    (big['age_category'] == 'Senior') & \n",
    "    (big['family_status'] == 'No Children'),\n",
    "    \n",
    "    # Established Parents\n",
    "    (big['age_category'].isin(['Mid Career', 'Late Career']) & \n",
    "     (big['family_status'] != 'No Children'))\n",
    "]\n",
    "\n",
    "choices = ['Young Single', 'Young Parent', 'Empty Nester', 'Established Parent']\n"
   ]
  },
  {
   "cell_type": "code",
   "execution_count": 53,
   "id": "d91e8c77-22b3-4f72-8626-b051b194d721",
   "metadata": {},
   "outputs": [
    {
     "name": "stderr",
     "output_type": "stream",
     "text": [
      "C:\\Users\\lefev\\AppData\\Local\\Temp\\ipykernel_7248\\2813475423.py:3: SettingWithCopyWarning: \n",
      "A value is trying to be set on a copy of a slice from a DataFrame.\n",
      "Try using .loc[row_indexer,col_indexer] = value instead\n",
      "\n",
      "See the caveats in the documentation: https://pandas.pydata.org/pandas-docs/stable/user_guide/indexing.html#returning-a-view-versus-a-copy\n",
      "  big.loc[:, 'customer_profile'] = np.select(conditions, choices, default='Other')\n"
     ]
    }
   ],
   "source": [
    "# Create the customer_profile column \n",
    "\n",
    "big.loc[:, 'customer_profile'] = np.select(conditions, choices, default='Other')"
   ]
  },
  {
   "cell_type": "code",
   "execution_count": 59,
   "id": "bffcb783-fe42-46c1-ba64-b26d032fa7eb",
   "metadata": {},
   "outputs": [
    {
     "name": "stderr",
     "output_type": "stream",
     "text": [
      "C:\\Users\\lefev\\AppData\\Local\\Temp\\ipykernel_7248\\1309885157.py:3: SettingWithCopyWarning: \n",
      "A value is trying to be set on a copy of a slice from a DataFrame.\n",
      "Try using .loc[row_indexer,col_indexer] = value instead\n",
      "\n",
      "See the caveats in the documentation: https://pandas.pydata.org/pandas-docs/stable/user_guide/indexing.html#returning-a-view-versus-a-copy\n",
      "  big.loc[:, 'detailed_profile'] = (\n"
     ]
    }
   ],
   "source": [
    "# Create detailed profile\n",
    "\n",
    "big.loc[:, 'detailed_profile'] = (\n",
    "    big['customer_profile'].astype(str) + ' - ' + \n",
    "    big['income_category'].astype(str)\n",
    ")"
   ]
  },
  {
   "cell_type": "code",
   "execution_count": 63,
   "id": "e941aa06-fefb-41b1-b4b3-0f3ca7050db9",
   "metadata": {},
   "outputs": [
    {
     "name": "stdout",
     "output_type": "stream",
     "text": [
      "\n",
      "Dataset Sizes:\n",
      "Big dataset (70%): 22681708 rows (70.0%)\n",
      "Small dataset (30%): 9720267 rows (30.0%)\n"
     ]
    }
   ],
   "source": [
    "# Check 70/30 split worked correctly\n",
    "\n",
    "print(\"\\nDataset Sizes:\")\n",
    "print(f\"Big dataset (70%): {len(big)} rows ({len(big)/len(df_merged):.1%})\")\n",
    "print(f\"Small dataset (30%): {len(small)} rows ({len(small)/len(df_merged):.1%})\")"
   ]
  },
  {
   "cell_type": "code",
   "execution_count": 65,
   "id": "104b6a0a-40fc-4367-b652-f3effd0086e9",
   "metadata": {},
   "outputs": [
    {
     "name": "stdout",
     "output_type": "stream",
     "text": [
      "\n",
      "Customer Profile Distribution:\n",
      "customer_profile\n",
      "Other                 40.0\n",
      "Young Parent          29.5\n",
      "Established Parent    17.3\n",
      "Young Single           7.0\n",
      "Empty Nester           6.2\n",
      "Name: proportion, dtype: float64 %\n"
     ]
    }
   ],
   "source": [
    "# Check the distribution of customer profiles as percentages \n",
    "\n",
    "print(\"\\nCustomer Profile Distribution:\")\n",
    "print(big['customer_profile'].value_counts(normalize=True).round(3) * 100, \"%\")"
   ]
  },
  {
   "cell_type": "code",
   "execution_count": 67,
   "id": "2e590aaf-6b69-4ac6-a8d3-9abab8c66def",
   "metadata": {},
   "outputs": [
    {
     "name": "stdout",
     "output_type": "stream",
     "text": [
      "\n",
      "Detailed Profile Distribution (Top 10):\n",
      "detailed_profile\n",
      "Other - Affluent                     4612593\n",
      "Young Parent - Upper Middle          3080899\n",
      "Other - Upper Middle                 2882806\n",
      "Established Parent - Affluent        2717906\n",
      "Young Parent - Affluent              2007597\n",
      "Young Parent - Middle Income         1532664\n",
      "Other - Middle Income                1529433\n",
      "Young Single - Upper Middle          1019853\n",
      "Empty Nester - Affluent               978201\n",
      "Established Parent - Upper Middle     749875\n",
      "Name: count, dtype: int64\n"
     ]
    }
   ],
   "source": [
    "# Check the top 10 detailed profiles with their counts\n",
    "\n",
    "print(\"\\nDetailed Profile Distribution (Top 10):\")\n",
    "print(big['detailed_profile'].value_counts().head(10))"
   ]
  },
  {
   "cell_type": "code",
   "execution_count": 69,
   "id": "66b3e9ee-6721-4444-9d2d-df988372fba7",
   "metadata": {},
   "outputs": [
    {
     "name": "stdout",
     "output_type": "stream",
     "text": [
      "\n",
      "Example Profiles (First 5 rows):\n",
      "   age_category income_category      family_status customer_profile  \\\n",
      "1  Early Career   Middle Income  Multiple Children     Young Parent   \n",
      "4  Early Career   Middle Income  Multiple Children     Young Parent   \n",
      "5  Early Career   Middle Income  Multiple Children     Young Parent   \n",
      "7  Early Career   Middle Income  Multiple Children     Young Parent   \n",
      "8  Early Career   Middle Income  Multiple Children     Young Parent   \n",
      "\n",
      "               detailed_profile  \n",
      "1  Young Parent - Middle Income  \n",
      "4  Young Parent - Middle Income  \n",
      "5  Young Parent - Middle Income  \n",
      "7  Young Parent - Middle Income  \n",
      "8  Young Parent - Middle Income  \n"
     ]
    }
   ],
   "source": [
    "# Show a sample of how individual customers were categorized \n",
    "\n",
    "print(\"\\nExample Profiles (First 5 rows):\")\n",
    "print(big[['age_category', 'income_category', 'family_status', \n",
    "          'customer_profile', 'detailed_profile']].head())\n"
   ]
  },
  {
   "cell_type": "markdown",
   "id": "71dcadb5-c283-4ddc-952a-ef27dc845204",
   "metadata": {},
   "source": [
    "## Question 6.  Create a visualization to show the distribution of profiles"
   ]
  },
  {
   "cell_type": "code",
   "execution_count": 123,
   "id": "dbca3aff-a28d-4826-a3f8-8e3bcb51aa66",
   "metadata": {},
   "outputs": [
    {
     "data": {
      "image/png": "[encoded data removed]",
      "text/plain": [
       "<Figure size 1200x600 with 1 Axes>"
      ]
     },
     "metadata": {},
     "output_type": "display_data"
    }
   ],
   "source": [
    "# Create grouped bar chart showing customer profiles with income category\n",
    "\n",
    "fig = plt.figure(figsize=(12, 6))\n",
    "sns.countplot(data=big, \n",
    "              x='customer_profile', \n",
    "              hue='income_category')\n",
    "\n",
    "plt.title('Customer Profiles by Income Category')\n",
    "plt.xlabel('Customer Profile')\n",
    "plt.ylabel('Count')\n",
    "plt.xticks(rotation=45)\n",
    "plt.legend(title='Income Category', bbox_to_anchor=(1.05, 1))\n",
    "plt.tight_layout()\n",
    "plt.show()"
   ]
  },
  {
   "cell_type": "markdown",
   "id": "0540f0ed-d319-4eb0-bf0f-2f2bdb5bd1b5",
   "metadata": {},
   "source": [
    "### Key for the customer profiles\n",
    "\n",
    "### 1. Young Single\n",
    "### Age: Young Adult (0-25) or Early Career (26-35)\n",
    "### Family Status: No Children\n",
    "### These customers are in their early adult years without children\n",
    "\n",
    "\n",
    "### 2. Young Parent\n",
    "### Age: Early Career (26-35) or Mid Career (36-50)\n",
    "### Family Status: Has Children (either Single Child or Multiple Children)\n",
    "### These are relatively younger customers with children\n",
    "\n",
    "\n",
    "### 3. Established Parent\n",
    "### Age: Mid Career (36-50) or Late Career (51-65)\n",
    "### Family Status: Has Children (either Single Child or Multiple Children)\n",
    "### These are more mature customers with children\n",
    "\n",
    "\n",
    "### 4. Empty Nester\n",
    "### Age: Senior (66-100)\n",
    "### Family Status: No Children\n",
    "### These are senior customers without children at home\n",
    "\n",
    "\n",
    "### 5. Other\n",
    "### Any combination that doesn't fit the above categories"
   ]
  },
  {
   "cell_type": "markdown",
   "id": "d4293aa1-f752-40d0-93e1-1bb228a06963",
   "metadata": {},
   "source": [
    "## Question 7. Aggreate the max, mean, and min variables on a customer-profile level for usage frequency and expenditure"
   ]
  },
  {
   "cell_type": "code",
   "execution_count": 78,
   "id": "e85551fb-3c86-4898-b5e0-6c9dc48432ae",
   "metadata": {},
   "outputs": [],
   "source": [
    "# Calculate statistics on customer profile \n",
    "\n",
    "profile_stats = big.groupby('customer_profile').agg({\n",
    "    'days_since_prior_order': ['max', 'mean', 'min'],  # frequency of orders\n",
    "    'prices': ['max', 'mean', 'min']  # expenditure\n",
    "}).round(2)"
   ]
  },
  {
   "cell_type": "code",
   "execution_count": 80,
   "id": "50c5ecc7-7e3b-4735-83c9-df351f35a2b8",
   "metadata": {},
   "outputs": [
    {
     "data": {
      "text/html": [
       "<div>\n",
       "<style scoped>\n",
       "    .dataframe tbody tr th:only-of-type {\n",
       "        vertical-align: middle;\n",
       "    }\n",
       "\n",
       "    .dataframe tbody tr th {\n",
       "        vertical-align: top;\n",
       "    }\n",
       "\n",
       "    .dataframe thead tr th {\n",
       "        text-align: left;\n",
       "    }\n",
       "\n",
       "    .dataframe thead tr:last-of-type th {\n",
       "        text-align: right;\n",
       "    }\n",
       "</style>\n",
       "<table border=\"1\" class=\"dataframe\">\n",
       "  <thead>\n",
       "    <tr>\n",
       "      <th></th>\n",
       "      <th colspan=\"3\" halign=\"left\">days_since_prior_order</th>\n",
       "      <th colspan=\"3\" halign=\"left\">prices</th>\n",
       "    </tr>\n",
       "    <tr>\n",
       "      <th></th>\n",
       "      <th>max</th>\n",
       "      <th>mean</th>\n",
       "      <th>min</th>\n",
       "      <th>max</th>\n",
       "      <th>mean</th>\n",
       "      <th>min</th>\n",
       "    </tr>\n",
       "    <tr>\n",
       "      <th>customer_profile</th>\n",
       "      <th></th>\n",
       "      <th></th>\n",
       "      <th></th>\n",
       "      <th></th>\n",
       "      <th></th>\n",
       "      <th></th>\n",
       "    </tr>\n",
       "  </thead>\n",
       "  <tbody>\n",
       "    <tr>\n",
       "      <th>Empty Nester</th>\n",
       "      <td>30.0</td>\n",
       "      <td>11.08</td>\n",
       "      <td>0.0</td>\n",
       "      <td>25.0</td>\n",
       "      <td>7.80</td>\n",
       "      <td>1.0</td>\n",
       "    </tr>\n",
       "    <tr>\n",
       "      <th>Established Parent</th>\n",
       "      <td>30.0</td>\n",
       "      <td>11.21</td>\n",
       "      <td>0.0</td>\n",
       "      <td>25.0</td>\n",
       "      <td>7.79</td>\n",
       "      <td>1.0</td>\n",
       "    </tr>\n",
       "    <tr>\n",
       "      <th>Other</th>\n",
       "      <td>30.0</td>\n",
       "      <td>11.06</td>\n",
       "      <td>0.0</td>\n",
       "      <td>25.0</td>\n",
       "      <td>7.79</td>\n",
       "      <td>1.0</td>\n",
       "    </tr>\n",
       "    <tr>\n",
       "      <th>Young Parent</th>\n",
       "      <td>30.0</td>\n",
       "      <td>11.10</td>\n",
       "      <td>0.0</td>\n",
       "      <td>25.0</td>\n",
       "      <td>7.79</td>\n",
       "      <td>1.0</td>\n",
       "    </tr>\n",
       "    <tr>\n",
       "      <th>Young Single</th>\n",
       "      <td>30.0</td>\n",
       "      <td>11.18</td>\n",
       "      <td>0.0</td>\n",
       "      <td>25.0</td>\n",
       "      <td>7.78</td>\n",
       "      <td>1.0</td>\n",
       "    </tr>\n",
       "  </tbody>\n",
       "</table>\n",
       "</div>"
      ],
      "text/plain": [
       "                   days_since_prior_order             prices           \n",
       "                                      max   mean  min    max  mean  min\n",
       "customer_profile                                                       \n",
       "Empty Nester                         30.0  11.08  0.0   25.0  7.80  1.0\n",
       "Established Parent                   30.0  11.21  0.0   25.0  7.79  1.0\n",
       "Other                                30.0  11.06  0.0   25.0  7.79  1.0\n",
       "Young Parent                         30.0  11.10  0.0   25.0  7.79  1.0\n",
       "Young Single                         30.0  11.18  0.0   25.0  7.78  1.0"
      ]
     },
     "execution_count": 80,
     "metadata": {},
     "output_type": "execute_result"
    }
   ],
   "source": [
    "profile_stats.head()"
   ]
  },
  {
   "cell_type": "markdown",
   "id": "d745dda7-bfb1-4841-b366-350e566ebaa6",
   "metadata": {},
   "source": [
    "## Question 8. Compare customer profiles with regions and departments"
   ]
  },
  {
   "cell_type": "code",
   "execution_count": 84,
   "id": "965f3292-3244-44d2-ba67-a386d0e6f097",
   "metadata": {},
   "outputs": [],
   "source": [
    "# Create a cross-tab of profiles and regions\n",
    "\n",
    "profile_region = pd.crosstab(big['customer_profile'], \n",
    "                            big['region'], \n",
    "                            normalize='index') * 100"
   ]
  },
  {
   "cell_type": "code",
   "execution_count": 86,
   "id": "1c8b55fa-c096-410e-a441-a0c192184b21",
   "metadata": {},
   "outputs": [
    {
     "name": "stdout",
     "output_type": "stream",
     "text": [
      "\n",
      "Customer Profile Distribution by Region (%):\n",
      "region              Midwest  Northeast  South   West\n",
      "customer_profile                                    \n",
      "Empty Nester          24.03      18.99  30.81  26.18\n",
      "Established Parent    23.85      18.14  31.79  26.22\n",
      "Other                 24.00      17.69  32.14  26.17\n",
      "Young Parent          24.03      17.97  31.98  26.02\n",
      "Young Single          22.91      18.55  33.15  25.39\n"
     ]
    }
   ],
   "source": [
    "print(\"\\nCustomer Profile Distribution by Region (%):\")\n",
    "print(profile_region.round(2))"
   ]
  },
  {
   "cell_type": "code",
   "execution_count": 92,
   "id": "91da8c94-b35c-4e57-b7d1-70e3e9c74fff",
   "metadata": {},
   "outputs": [],
   "source": [
    "# Department naming did not save from 4.4 exericse, will map the names now\n",
    "\n",
    "dept_names = {\n",
    "    1: 'frozen',\n",
    "    2: 'other',\n",
    "    3: 'bakery',\n",
    "    4: 'produce',\n",
    "    5: 'alcohol',\n",
    "    6: 'international',\n",
    "    7: 'beverages',\n",
    "    8: 'pets',\n",
    "    9: 'dry goods pasta',\n",
    "    10: 'bulk',\n",
    "    11: 'personal care',\n",
    "    12: 'meat seafood',\n",
    "    13: 'pantry',\n",
    "    14: 'breakfast',\n",
    "    15: 'canned goods',\n",
    "    16: 'dairy eggs',\n",
    "    17: 'household',\n",
    "    18: 'babies',\n",
    "    19: 'snacks',\n",
    "    20: 'deli',\n",
    "    21: 'missing'\n",
    "}"
   ]
  },
  {
   "cell_type": "code",
   "execution_count": 94,
   "id": "c27d10db-29b8-4d92-be3a-15347200c015",
   "metadata": {},
   "outputs": [
    {
     "name": "stderr",
     "output_type": "stream",
     "text": [
      "C:\\Users\\lefev\\AppData\\Local\\Temp\\ipykernel_7248\\740955484.py:3: SettingWithCopyWarning: \n",
      "A value is trying to be set on a copy of a slice from a DataFrame.\n",
      "Try using .loc[row_indexer,col_indexer] = value instead\n",
      "\n",
      "See the caveats in the documentation: https://pandas.pydata.org/pandas-docs/stable/user_guide/indexing.html#returning-a-view-versus-a-copy\n",
      "  big['department_name'] = big['department_id'].map(dept_names)\n"
     ]
    }
   ],
   "source": [
    "# Create new column with department names\n",
    "\n",
    "big['department_name'] = big['department_id'].map(dept_names)"
   ]
  },
  {
   "cell_type": "code",
   "execution_count": 96,
   "id": "ccbc309b-8aca-4b28-bcc5-3bb4580d69fe",
   "metadata": {},
   "outputs": [],
   "source": [
    "# Print cross-tab with dpeartment names\n",
    "\n",
    "profile_dept = pd.crosstab(big['customer_profile'], \n",
    "                          big['department_name'], \n",
    "                          normalize='index') * 100"
   ]
  },
  {
   "cell_type": "code",
   "execution_count": 98,
   "id": "187ed4ed-4cea-497b-abb4-46af685fff67",
   "metadata": {},
   "outputs": [
    {
     "name": "stdout",
     "output_type": "stream",
     "text": [
      "\n",
      "Customer Profile Distribution by Department (%):\n",
      "department_name     alcohol  babies  bakery  beverages  breakfast  bulk  \\\n",
      "customer_profile                                                          \n",
      "Empty Nester           0.46    1.25    3.59       8.32       2.09  0.10   \n",
      "Established Parent     0.47    1.29    3.64       8.40       2.16  0.11   \n",
      "Other                  0.48    1.31    3.62       8.32       2.19  0.11   \n",
      "Young Parent           0.48    1.32    3.60       8.20       2.16  0.11   \n",
      "Young Single           0.47    1.32    3.69       8.30       2.17  0.10   \n",
      "\n",
      "department_name     canned goods  dairy eggs  deli  dry goods pasta  ...  \\\n",
      "customer_profile                                                     ...   \n",
      "Empty Nester                3.21       16.66  3.25             2.67  ...   \n",
      "Established Parent          3.30       16.42  3.23             2.69  ...   \n",
      "Other                       3.31       16.66  3.25             2.68  ...   \n",
      "Young Parent                3.30       16.82  3.23             2.66  ...   \n",
      "Young Single                3.29       16.70  3.27             2.68  ...   \n",
      "\n",
      "department_name     household  international  meat seafood  missing  other  \\\n",
      "customer_profile                                                             \n",
      "Empty Nester             2.25           0.82          2.18     0.20   0.11   \n",
      "Established Parent       2.30           0.82          2.19     0.22   0.11   \n",
      "Other                    2.27           0.83          2.19     0.21   0.11   \n",
      "Young Parent             2.28           0.83          2.18     0.21   0.11   \n",
      "Young Single             2.28           0.86          2.13     0.22   0.11   \n",
      "\n",
      "department_name     pantry  personal care  pets  produce  snacks  \n",
      "customer_profile                                                  \n",
      "Empty Nester          5.77           1.41  0.33    29.46    8.88  \n",
      "Established Parent    5.81           1.41  0.31    29.20    8.96  \n",
      "Other                 5.78           1.36  0.30    29.20    8.90  \n",
      "Young Parent          5.80           1.38  0.29    29.31    8.90  \n",
      "Young Single          5.78           1.39  0.31    29.25    8.89  \n",
      "\n",
      "[5 rows x 21 columns]\n"
     ]
    }
   ],
   "source": [
    "print(\"\\nCustomer Profile Distribution by Department (%):\")\n",
    "print(profile_dept.round(2))"
   ]
  },
  {
   "cell_type": "markdown",
   "id": "1544da01-1244-4160-8787-a4d4058f895f",
   "metadata": {},
   "source": [
    "## Answer - The customer profiles do not differentiate much when it comes to department spending, they are quite equal and consistant actually\n",
    "## When it comes to region, distribution of customer profiles is fairly consistent amongst each region. The noticable takeaway is that the South is the most populated, while the NorthEast is the least. Businsess is done largly in the South and West. "
   ]
  },
  {
   "cell_type": "markdown",
   "id": "e5d09876-4620-4c36-a160-4292521ac466",
   "metadata": {},
   "source": [
    "# Export "
   ]
  },
  {
   "cell_type": "code",
   "execution_count": 107,
   "id": "3a8c57c6-b2fa-4627-9759-509e81c10a74",
   "metadata": {},
   "outputs": [],
   "source": [
    "# First export the region crosstabs from question 8\n",
    "\n",
    "profile_region.round(2).to_clipboard()"
   ]
  },
  {
   "cell_type": "code",
   "execution_count": 109,
   "id": "8e532e28-0d29-4ee3-9ce9-3302fc9cad67",
   "metadata": {},
   "outputs": [],
   "source": [
    "# Now export the department crosstab from question 8\n",
    "\n",
    "profile_dept.round(2).to_clipboard()"
   ]
  },
  {
   "cell_type": "code",
   "execution_count": 113,
   "id": "3d8df7a1-2d56-41f5-a048-ca4430991d76",
   "metadata": {},
   "outputs": [],
   "source": [
    "# Export chart from question 7\n",
    "\n",
    "profile_stats.to_clipboard()"
   ]
  },
  {
   "cell_type": "code",
   "execution_count": 125,
   "id": "200dbace-5a38-4bce-ace5-cdcd6e61f960",
   "metadata": {},
   "outputs": [],
   "source": [
    "# Export image from question 6\n",
    "\n",
    "fig.savefig(os.path.join(path, '04 Analysis', 'Visualizations', 'customer_profiles_by_income.png'), dpi=300)"
   ]
  },
  {
   "cell_type": "code",
   "execution_count": 130,
   "id": "34ec1c4b-5012-47dd-b1b3-bfc894a0976f",
   "metadata": {},
   "outputs": [],
   "source": [
    "# Export image from question 3 \n",
    "\n",
    "flag_fig.savefig(os.path.join(path, '04 Analysis', 'Visualizations', 'spending_flag_region.png'), dpi=300)"
   ]
  },
  {
   "cell_type": "code",
   "execution_count": 132,
   "id": "cf240876-646e-4018-acc1-a177b417f116",
   "metadata": {},
   "outputs": [],
   "source": [
    "# Export final dataframe\n",
    "\n",
    "df_merged.to_pickle(os.path.join(path, '02 Data','Prepared Data', 'final_dataset.pkl'))"
   ]
  },
  {
   "cell_type": "code",
   "execution_count": null,
   "id": "1250cd43-45d0-4f69-a509-fa26464e2187",
   "metadata": {},
   "outputs": [],
   "source": []
  }
 ],
 "metadata": {
  "kernelspec": {
   "display_name": "Python 3 (ipykernel)",
   "language": "python",
   "name": "python3"
  },
  "language_info": {
   "codemirror_mode": {
    "name": "ipython",
    "version": 3
   },
   "file_extension": ".py",
   "mimetype": "text/x-python",
   "name": "python",
   "nbconvert_exporter": "python",
   "pygments_lexer": "ipython3",
   "version": "3.12.4"
  }
 },
 "nbformat": 4,
 "nbformat_minor": 5
}
